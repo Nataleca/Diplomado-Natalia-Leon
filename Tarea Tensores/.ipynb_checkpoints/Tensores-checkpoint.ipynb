{
 "cells": [
  {
   "cell_type": "markdown",
   "metadata": {},
   "source": [
    "**Universidad Nacional de Colombia**\n",
    "\n",
    "**Diplomado en Inteligencia Artificial y Aprendizaje Profundo**\n",
    "\n",
    "**Leidy Natalia León Carvajal**\n",
    "\n",
    "**lnleonc@unal.edu.co**"
   ]
  },
  {
   "cell_type": "markdown",
   "metadata": {},
   "source": [
    "# **Canalización de datos con Tensorflow**\n"
   ]
  },
  {
   "cell_type": "markdown",
   "metadata": {},
   "source": [
    "### Importamos las librerías y utilidades necesarias para trabajar"
   ]
  },
  {
   "cell_type": "code",
   "execution_count": 206,
   "metadata": {},
   "outputs": [],
   "source": [
    "import tensorflow as tf\n",
    "import numpy as np"
   ]
  },
  {
   "cell_type": "markdown",
   "metadata": {},
   "source": [
    "## **Construcción de Tensores**\n",
    "### A continuación se presentan algunos ejemplos de tensores:"
   ]
  },
  {
   "cell_type": "code",
   "execution_count": 207,
   "metadata": {},
   "outputs": [
    {
     "name": "stdout",
     "output_type": "stream",
     "text": [
      "tf.Tensor(8, shape=(), dtype=int32)\n"
     ]
    }
   ],
   "source": [
    "# Tensor de dimensión 0 \n",
    "tensor0=tf.constant(8)\n",
    "print(tensor0)"
   ]
  },
  {
   "cell_type": "code",
   "execution_count": 208,
   "metadata": {},
   "outputs": [
    {
     "name": "stdout",
     "output_type": "stream",
     "text": [
      "tf.Tensor([2 4 6], shape=(3,), dtype=int32)\n"
     ]
    }
   ],
   "source": [
    "# Tensor de dimesión 3\n",
    "tensor3=tf.constant([2,4,6])\n",
    "print(tensor3)"
   ]
  },
  {
   "cell_type": "code",
   "execution_count": 209,
   "metadata": {},
   "outputs": [
    {
     "name": "stdout",
     "output_type": "stream",
     "text": [
      "tf.Tensor(\n",
      "[[1 3 5]\n",
      " [2 4 6]], shape=(2, 3), dtype=int32)\n"
     ]
    }
   ],
   "source": [
    "# Tensor de dimensión 2-3\n",
    "tensor23=tf.constant([[1,3,5],[2,4,6]])\n",
    "print(tensor23)"
   ]
  },
  {
   "cell_type": "code",
   "execution_count": 210,
   "metadata": {},
   "outputs": [
    {
     "name": "stdout",
     "output_type": "stream",
     "text": [
      "tf.Tensor(\n",
      "[[[1 1 1 1 1]\n",
      "  [2 2 2 2 2]\n",
      "  [3 3 3 3 3]]\n",
      "\n",
      " [[4 4 4 4 4]\n",
      "  [5 5 5 5 5]\n",
      "  [6 6 6 6 6]]], shape=(2, 3, 5), dtype=int32)\n"
     ]
    }
   ],
   "source": [
    "# Tensor de dimensión 2-3-5: ([[[5elementos],[5elementos],[5elementos]],[[5elmentos],[5elementos],[5elementos]]]) \n",
    "tensor235=tf.constant([[[1,1,1,1,1],[2,2,2,2,2],[3,3,3,3,3]],[[4,4,4,4,4],[5,5,5,5,5],[6,6,6,6,6]]])\n",
    "print(tensor235)"
   ]
  },
  {
   "cell_type": "code",
   "execution_count": 211,
   "metadata": {},
   "outputs": [
    {
     "name": "stdout",
     "output_type": "stream",
     "text": [
      "[[[1 1 1 1 1]\n",
      "  [2 2 2 2 2]\n",
      "  [3 3 3 3 3]]\n",
      "\n",
      " [[4 4 4 4 4]\n",
      "  [5 5 5 5 5]\n",
      "  [6 6 6 6 6]]]\n",
      "\n",
      " (2, 3, 5)\n",
      "\n",
      " (2, 3, 5)\n"
     ]
    }
   ],
   "source": [
    "print(tensor235.numpy())\n",
    "print('\\n',tensor235.numpy().shape)\n",
    "print('\\n',tensor235.shape)"
   ]
  },
  {
   "cell_type": "markdown",
   "metadata": {},
   "source": [
    "## **Álgebra de Tensores**\n",
    "### Ahora veremos como efectuar algunas operaciones algebráicas entre tensores"
   ]
  },
  {
   "cell_type": "code",
   "execution_count": 212,
   "metadata": {},
   "outputs": [
    {
     "name": "stdout",
     "output_type": "stream",
     "text": [
      "tf.Tensor(\n",
      "[[1 3 5]\n",
      " [2 4 6]], shape=(2, 3), dtype=int32)\n",
      "\n",
      " tf.Tensor(\n",
      "[[1 2 3]\n",
      " [4 5 6]], shape=(2, 3), dtype=int32)\n"
     ]
    }
   ],
   "source": [
    "# Construimos dos tensores a y b de la misma dimensión (2,3):\n",
    "a=tf.constant([[1,3,5],[2,4,6]])\n",
    "b=tf.constant([[1,2,3],[4,5,6]])\n",
    "\n",
    "print(a)\n",
    "print('\\n',b)"
   ]
  },
  {
   "cell_type": "code",
   "execution_count": 213,
   "metadata": {},
   "outputs": [
    {
     "name": "stdout",
     "output_type": "stream",
     "text": [
      "tf.Tensor(\n",
      "[[ 2  5  8]\n",
      " [ 6  9 12]], shape=(2, 3), dtype=int32)\n",
      "\n",
      " tf.Tensor(\n",
      "[[ 2  5  8]\n",
      " [ 6  9 12]], shape=(2, 3), dtype=int32)\n"
     ]
    }
   ],
   "source": [
    "# Suma de tensores (se realiza elemento a elemento):\n",
    "suma=tf.add(a,b)\n",
    "print(suma)\n",
    "\n",
    "# O alternativamente\n",
    "print('\\n', a+b)"
   ]
  },
  {
   "cell_type": "code",
   "execution_count": 214,
   "metadata": {},
   "outputs": [
    {
     "name": "stdout",
     "output_type": "stream",
     "text": [
      "tf.Tensor(\n",
      "[[ 1  6 15]\n",
      " [ 8 20 36]], shape=(2, 3), dtype=int32)\n",
      "\n",
      " tf.Tensor(\n",
      "[[ 1  6 15]\n",
      " [ 8 20 36]], shape=(2, 3), dtype=int32)\n"
     ]
    }
   ],
   "source": [
    "# Producto de tensores componente a componente:\n",
    "prodc=tf.multiply(a,b)\n",
    "print(prodc)\n",
    "\n",
    "# O también\n",
    "print('\\n', a*b)"
   ]
  },
  {
   "cell_type": "code",
   "execution_count": 215,
   "metadata": {},
   "outputs": [
    {
     "name": "stdout",
     "output_type": "stream",
     "text": [
      "tf.Tensor(\n",
      "[[2 3]\n",
      " [4 8]], shape=(2, 2), dtype=int32)\n",
      "\n",
      " tf.Tensor(\n",
      "[[1 2]\n",
      " [3 5]], shape=(2, 2), dtype=int32)\n",
      "\n",
      " tf.Tensor(\n",
      "[[11 19]\n",
      " [28 48]], shape=(2, 2), dtype=int32)\n",
      "\n",
      " tf.Tensor(\n",
      "[[11 19]\n",
      " [28 48]], shape=(2, 2), dtype=int32)\n"
     ]
    }
   ],
   "source": [
    "# Producto de tensores matricialmente: No se puede efectuar entre a y b pues no son conformables!!!\n",
    "\n",
    "# Se generan dos tensores conformables para ilustrar la operación:\n",
    "a1=tf.constant([[2,3],[4,8]])\n",
    "b1=tf.constant([[1,2],[3,5]])\n",
    "prodt=tf.matmul(a1,b1)\n",
    "print(a1)\n",
    "print('\\n',b1)\n",
    "print('\\n',prodt)\n",
    "\n",
    "# También podemos hacer\n",
    "print('\\n', a1@b1)"
   ]
  },
  {
   "cell_type": "markdown",
   "metadata": {},
   "source": [
    "## **Funciones de Reducción**\n",
    "### Podemos extraer alguna información sobre los elementos de los tensores"
   ]
  },
  {
   "cell_type": "code",
   "execution_count": 216,
   "metadata": {},
   "outputs": [
    {
     "name": "stdout",
     "output_type": "stream",
     "text": [
      "tf.Tensor(\n",
      "[[ 1. 13.]\n",
      " [ 5.  7.]], shape=(2, 2), dtype=float32)\n",
      "\n",
      "ELEMENTO MAYOR: tf.Tensor(13.0, shape=(), dtype=float32)\n",
      "\n",
      "ELEMENTO MENOR: tf.Tensor(1.0, shape=(), dtype=float32)\n",
      "\n",
      "PROMEDIO DE LOS ELEMENTOS: tf.Tensor(6.5, shape=(), dtype=float32)\n",
      "\n",
      "POSICIÓN ELEMENTO MAYOR: tf.Tensor([1 0], shape=(2,), dtype=int64)\n",
      "\n",
      "SOFTMAX:\n",
      " tf.Tensor(\n",
      "[[6.1441742e-06 9.9999380e-01]\n",
      " [1.1920291e-01 8.8079703e-01]], shape=(2, 2), dtype=float32)\n",
      "\n",
      "SUMA PROBABILIDADES SOFTMAX: tf.Tensor([0.99999994 0.99999994], shape=(2,), dtype=float32) \n",
      "\n"
     ]
    }
   ],
   "source": [
    "# Construimos un tensor de dimensión 2-3 para ilustrar:\n",
    "x=tf.constant([[1.0,13.0],[5.0,7.0]])\n",
    "print(x)\n",
    "\n",
    "# Identificamos el elemento mayor dentro del tensor:\n",
    "print('\\nELEMENTO MAYOR:',tf.reduce_max(x))\n",
    "# Identificamos el elemento menor dentro del tensor:\n",
    "print('\\nELEMENTO MENOR:',tf.reduce_min(x))\n",
    "# Calculamos el promedio de los componentes del tensor:\n",
    "print('\\nPROMEDIO DE LOS ELEMENTOS:',tf.reduce_mean(x))\n",
    "# Identificamos la posición del elemento mayor dentro del tensor:\n",
    "print('\\nPOSICIÓN ELEMENTO MAYOR:',tf.argmax(x))\n",
    "# Aplica la función de activación SOFTMAX a los componentes del tensor exp(e[i,j])/sum(exp(e[i,]))\n",
    "print('\\nSOFTMAX:\\n',tf.nn.softmax(x))\n",
    "# Se suman las probabilidades obtenidas con la función SOFTMAX para verificar que da 1:\n",
    "print('\\nSUMA PROBABILIDADES SOFTMAX:',tf.reduce_sum(tf.nn.softmax(x),axis=1),\"\\n\")"
   ]
  },
  {
   "cell_type": "markdown",
   "metadata": {},
   "source": [
    "## **Tipo, Forma y Dimensión**\n",
    "### Veremos cómo extraer algunas características de un tensor"
   ]
  },
  {
   "cell_type": "code",
   "execution_count": 217,
   "metadata": {},
   "outputs": [
    {
     "name": "stdout",
     "output_type": "stream",
     "text": [
      "TIPO:  <dtype: 'int32'>\n",
      "\n",
      "FORMA:  (3, 2, 5)\n",
      "\n",
      "DIMENSIÓN:  3\n",
      "\n",
      "DIMENSIÓN DE UN COMPONENTE:  2\n",
      "\n",
      "NÚMERO DE ELEMENTOS:  tf.Tensor(30, shape=(), dtype=int32)\n"
     ]
    }
   ],
   "source": [
    "# Construcción de un tensor 3-2-5 ([[[5e],[5e]],[[5e],[5e]],[[5e],[5e]]])\n",
    "\n",
    "tensor=tf.constant([[[5,9,2,3,7],[8,8,7,0,4]],\n",
    "                    [[3,9,8,0,3],[2,8,2,5,1]],\n",
    "                    [[4,5,2,5,1],[4,7,0,6,7]]])\n",
    "print('TIPO: ',tensor.dtype)\n",
    "print('\\nFORMA: ',tensor.shape)\n",
    "print('\\nDIMENSIÓN: ',tensor.ndim)\n",
    "print('\\nDIMENSIÓN DE UN COMPONENTE: ',tensor.shape[1])\n",
    "print('\\nNÚMERO DE ELEMENTOS: ',tf.size(tensor.numpy()))"
   ]
  },
  {
   "cell_type": "markdown",
   "metadata": {},
   "source": [
    "## **Indexación**\n",
    "### Se presenta la forma en que pueden manipularse los índices de un tensor"
   ]
  },
  {
   "cell_type": "code",
   "execution_count": 218,
   "metadata": {},
   "outputs": [
    {
     "name": "stdout",
     "output_type": "stream",
     "text": [
      "tf.Tensor([10  4 14 15  3  4 10 19 19  6], shape=(10,), dtype=int32)\n",
      "\n",
      "PIMER ELEMENTO:  tf.Tensor(10, shape=(), dtype=int32)\n",
      "\n",
      "QUINTO ELEMENTO:  tf.Tensor(3, shape=(), dtype=int32)\n",
      "\n",
      "ÚLTIMO EMENTO:  6\n",
      "\n",
      "TODOS LOS ELEMENTOS:  [10  4 14 15  3  4 10 19 19  6]\n",
      "\n",
      "ELEMENTOS ANTES DE LA POSICIÓN 5:  [10  4 14 15  3]\n",
      "\n",
      "ELEMENTOS DESPUÉS DE LA POSICIÓN 5:  [ 4 10 19 19  6]\n",
      "\n",
      "DESDER LA POSICIÓN 4 HASTA LA POSICIÓN 6:  [ 3  4 10]\n",
      "\n",
      "ELEMENTOS EN LA POSICIÓN IMPAR:  [10 14  3 10 19]\n",
      "\n",
      "ELEMENTOS INVIRTIENDO EL ORDEN:  [ 6 19 19 10  4  3 15 14  4 10]\n"
     ]
    }
   ],
   "source": [
    "# Se construye un tensor para ilustrar el manejo de índices\n",
    "tensor=tf.constant([10,4,14,15,3,4,10,19,19,6])\n",
    "print(tensor)\n",
    "print(\"\\nPIMER ELEMENTO: \", tensor[0])\n",
    "print(\"\\nQUINTO ELEMENTO: \", tensor[4])\n",
    "print(\"\\nÚLTIMO EMENTO: \", tensor[-1].numpy())\n",
    "print('\\nTODOS LOS ELEMENTOS: ', tensor[:].numpy())\n",
    "print('\\nELEMENTOS ANTES DE LA POSICIÓN 5: ', tensor[:5].numpy())\n",
    "print('\\nELEMENTOS DESPUÉS DE LA POSICIÓN 5: ', tensor[5:].numpy())\n",
    "print('\\nDESDER LA POSICIÓN 4 HASTA LA POSICIÓN 6: ', tensor[4:7].numpy())\n",
    "print('\\nELEMENTOS EN LA POSICIÓN IMPAR: ', tensor[0::2].numpy())\n",
    "print('\\nELEMENTOS INVIRTIENDO EL ORDEN: ', tensor[::-1].numpy())"
   ]
  },
  {
   "cell_type": "code",
   "execution_count": 219,
   "metadata": {},
   "outputs": [
    {
     "name": "stdout",
     "output_type": "stream",
     "text": [
      "TENSOR:  tf.Tensor(\n",
      "[[1 3 5]\n",
      " [2 4 6]], shape=(2, 3), dtype=int32)\n",
      "\n",
      "COMPONENTE EN LA POSICIÓN 0-1 =  3\n",
      "\n",
      "PRIMERA FILA:  [1 3 5]\n",
      "\n",
      "PRIMERA COLUMNA:  [1 2]\n",
      "\n",
      "ÚLTIMA COLUMNA:  [5 6]\n",
      "\n",
      "PRIMER ELEMENTO DE LA ÚLTIMA COLUMNA:  5\n",
      "\n",
      "SALTAR LA PRIMERA COLUMNA:\n",
      " [[3 5]\n",
      " [4 6]]\n"
     ]
    }
   ],
   "source": [
    "# Creamos un tensor 2-3 para ilustrar: ([[3e],[3e]])\n",
    "\n",
    "t=tf.constant([[1,3,5],[2,4,6]])\n",
    "print('TENSOR: ', t)\n",
    "\n",
    "print('\\nCOMPONENTE EN LA POSICIÓN 0-1 = ',t[0,1].numpy())\n",
    "print('\\nPRIMERA FILA: ', t[0,:].numpy())\n",
    "print('\\nPRIMERA COLUMNA: ', t[:,0].numpy())\n",
    "print('\\nÚLTIMA COLUMNA: ', t[:,-1].numpy())\n",
    "print('\\nPRIMER ELEMENTO DE LA ÚLTIMA COLUMNA: ', t[0,-1].numpy())\n",
    "print('\\nSALTAR LA PRIMERA COLUMNA:\\n', t[:,1:].numpy())"
   ]
  },
  {
   "cell_type": "code",
   "execution_count": 225,
   "metadata": {},
   "outputs": [
    {
     "name": "stdout",
     "output_type": "stream",
     "text": [
      "(3, 2, 5) \n",
      "\n",
      "[[[ 0  2  4  6  8]\n",
      "  [ 1  3  5  7  9]]\n",
      "\n",
      " [[10 12 14 16 18]\n",
      "  [11 13 15 17 19]]\n",
      "\n",
      " [[20 22 24 26 28]\n",
      "  [21 23 25 27 29]]]\n"
     ]
    }
   ],
   "source": [
    "# Creamos un vector 3-2-5 para ilustrar\n",
    "tensor=tf.constant([[[0,2,4,6,8],[1,3,5,7,9]],[[10,12,14,16,18],[11,13,15,17,19]],[[20,22,24,26,28],[21,23,25,27,29]]])\n",
    "print(tensor.shape,'\\n')\n",
    "print(tensor.numpy())"
   ]
  },
  {
   "cell_type": "code",
   "execution_count": 221,
   "metadata": {},
   "outputs": [
    {
     "name": "stdout",
     "output_type": "stream",
     "text": [
      "PRIMERA CAPA\n",
      " tf.Tensor(\n",
      "[[0 2 4 6 8]\n",
      " [1 3 5 7 9]], shape=(2, 5), dtype=int32)\n",
      "\n",
      "PRIMERA CAPA\n",
      " tf.Tensor(\n",
      "[[0 2 4 6 8]\n",
      " [1 3 5 7 9]], shape=(2, 5), dtype=int32)\n",
      "\n",
      "SEGUNDA CAPA\n",
      " tf.Tensor(\n",
      "[[10 12 14 16 18]\n",
      " [11 13 15 17 19]], shape=(2, 5), dtype=int32)\n",
      "\n",
      "TERCERA CAPA\n",
      " tf.Tensor(\n",
      "[[20 22 24 26 28]\n",
      " [21 23 25 27 29]], shape=(2, 5), dtype=int32)\n"
     ]
    }
   ],
   "source": [
    "print('PRIMERA CAPA\\n', tensor[0,:,:])\n",
    "print('\\nPRIMERA CAPA\\n', tensor[0])\n",
    "print('\\nSEGUNDA CAPA\\n', tensor[1])\n",
    "print('\\nTERCERA CAPA\\n', tensor[2])"
   ]
  },
  {
   "cell_type": "code",
   "execution_count": 229,
   "metadata": {},
   "outputs": [
    {
     "name": "stdout",
     "output_type": "stream",
     "text": [
      "FORMA:  (3, 1)\n",
      "\n",
      "FORMA COMO LISTA:  [3, 1] \n",
      "\n",
      "[[2 4 6]] \n",
      "\n",
      "[[2]\n",
      " [4]\n",
      " [6]]\n"
     ]
    }
   ],
   "source": [
    "# Construimos un tensor para ilustrar cómo manipular la disposición de un tensor:\n",
    "x = tf.constant([[2],[4],[6]])\n",
    "print('FORMA: ', x.shape)\n",
    "print('\\nFORMA COMO LISTA: ',x.shape.as_list(),'\\n')\n",
    "reshaped = tf.reshape(x,[1,3])\n",
    "print(reshaped.numpy(),'\\n')\n",
    "print(x.numpy())"
   ]
  },
  {
   "cell_type": "code",
   "execution_count": 230,
   "metadata": {},
   "outputs": [
    {
     "name": "stdout",
     "output_type": "stream",
     "text": [
      "Tensor actual: \n",
      " [[[ 0  2  4  6  8]\n",
      "  [ 1  3  5  7  9]]\n",
      "\n",
      " [[10 12 14 16 18]\n",
      "  [11 13 15 17 19]]\n",
      "\n",
      " [[20 22 24 26 28]\n",
      "  [21 23 25 27 29]]]\n",
      "\n",
      " TENSOR APLANADO: \n",
      " [ 0  2  4  6  8  1  3  5  7  9 10 12 14 16 18 11 13 15 17 19 20 22 24 26\n",
      " 28 21 23 25 27 29]\n"
     ]
    }
   ],
   "source": [
    "print(\"Tensor actual: \\n\", tensor.numpy())\n",
    "flat = tf.reshape(tensor, [-1])\n",
    "print(\"\\n TENSOR APLANADO: \\n\", flat.numpy())"
   ]
  },
  {
   "cell_type": "code",
   "execution_count": 231,
   "metadata": {},
   "outputs": [
    {
     "name": "stdout",
     "output_type": "stream",
     "text": [
      "[3, 2, 5] \n",
      "\n",
      "tf.Tensor(\n",
      "[[ 0  2  4  6  8]\n",
      " [ 1  3  5  7  9]\n",
      " [10 12 14 16 18]\n",
      " [11 13 15 17 19]\n",
      " [20 22 24 26 28]\n",
      " [21 23 25 27 29]], shape=(6, 5), dtype=int32) \n",
      "\n",
      "tf.Tensor(\n",
      "[[ 0  2  4  6  8  1  3  5  7  9 10 12 14 16 18]\n",
      " [11 13 15 17 19 20 22 24 26 28 21 23 25 27 29]], shape=(2, 15), dtype=int32) \n",
      "\n",
      "tf.Tensor(\n",
      "[[ 0  2  4  6  8]\n",
      " [ 1  3  5  7  9]\n",
      " [10 12 14 16 18]\n",
      " [11 13 15 17 19]\n",
      " [20 22 24 26 28]\n",
      " [21 23 25 27 29]], shape=(6, 5), dtype=int32) \n",
      "\n",
      "tf.Tensor(\n",
      "[[ 0  2  4  6  8  1  3  5  7  9]\n",
      " [10 12 14 16 18 11 13 15 17 19]\n",
      " [20 22 24 26 28 21 23 25 27 29]], shape=(3, 10), dtype=int32) \n",
      "\n",
      "tf.Tensor(\n",
      "[[[ 0  2  4  6  8]\n",
      "  [ 1  3  5  7  9]]\n",
      "\n",
      " [[10 12 14 16 18]\n",
      "  [11 13 15 17 19]]\n",
      "\n",
      " [[20 22 24 26 28]\n",
      "  [21 23 25 27 29]]], shape=(3, 2, 5), dtype=int32) \n",
      "\n"
     ]
    }
   ],
   "source": [
    "print(tensor.shape.as_list(),'\\n')\n",
    "print(tf.reshape(tensor, [2*3,5]),'\\n')\n",
    "print(tf.reshape(tensor, [2,3*5]),'\\n')\n",
    "print(tf.reshape(tensor, [-1,5]),'\\n')\n",
    "print(tf.reshape(tensor, [3,-1]),'\\n')\n",
    "print(tf.reshape(tensor, [3,2,5]),'\\n')"
   ]
  },
  {
   "cell_type": "code",
   "execution_count": 233,
   "metadata": {},
   "outputs": [
    {
     "name": "stdout",
     "output_type": "stream",
     "text": [
      "tf.Tensor([9. 4. 7.], shape=(3,), dtype=float64) \n",
      "\n",
      "tf.Tensor([9. 4. 7.], shape=(3,), dtype=float16) \n",
      "\n",
      "tf.Tensor([9 4 7], shape=(3,), dtype=uint8) \n",
      "\n"
     ]
    }
   ],
   "source": [
    "# Podemos convertir los tensores a distintos tipos empleando la función 'cast':\n",
    "f64_tensor = tf.constant([9.0, 4.0, 7.0], dtype = tf.float64)\n",
    "print(f64_tensor,'\\n')\n",
    "\n",
    "f16_tensor = tf.cast(f64_tensor,dtype= tf.float16)\n",
    "print(f16_tensor,'\\n')\n",
    "\n",
    "u8_tensor = tf.cast(f16_tensor, dtype = tf.uint8)\n",
    "print(u8_tensor,'\\n')"
   ]
  },
  {
   "cell_type": "markdown",
   "metadata": {},
   "source": [
    "## **Radiodifusión**"
   ]
  },
  {
   "cell_type": "code",
   "execution_count": 236,
   "metadata": {},
   "outputs": [
    {
     "name": "stdout",
     "output_type": "stream",
     "text": [
      "tf.Tensor([10 20 30], shape=(3,), dtype=int32) \n",
      "\n",
      "tf.Tensor([10 20 30], shape=(3,), dtype=int32) \n",
      "\n",
      "tf.Tensor([10 20 30], shape=(3,), dtype=int32) \n",
      "\n"
     ]
    }
   ],
   "source": [
    "a = tf.constant([2, 4 ,6])\n",
    "b = tf.constant(5)\n",
    "c = tf.constant([5, 5 ,5])\n",
    "\n",
    "# Podemos producir el mismo resultado usando la siguiente sintaxis:\n",
    "print(tf.multiply(a,5),'\\n')\n",
    "print(a*b,'\\n')\n",
    "print(a*c,'\\n')"
   ]
  },
  {
   "cell_type": "code",
   "execution_count": 241,
   "metadata": {},
   "outputs": [
    {
     "name": "stdout",
     "output_type": "stream",
     "text": [
      "tf.Tensor(\n",
      "[[2]\n",
      " [4]\n",
      " [6]], shape=(3, 1), dtype=int32) \n",
      "\n",
      "tf.Tensor([ 2  4  6  8 10], shape=(5,), dtype=int32) \n",
      "\n",
      "tf.Tensor(\n",
      "[[ 4  8 12 16 20]\n",
      " [ 8 16 24 32 40]\n",
      " [12 24 36 48 60]], shape=(3, 5), dtype=int32)\n"
     ]
    }
   ],
   "source": [
    "a = tf.reshape(a, [3,1])\n",
    "b = tf.constant([2,4,6,8,10])\n",
    "print(a, '\\n')\n",
    "print(b, '\\n')\n",
    "print(tf.multiply(a,b)) # Son conformables!!"
   ]
  },
  {
   "cell_type": "code",
   "execution_count": 242,
   "metadata": {},
   "outputs": [
    {
     "name": "stdout",
     "output_type": "stream",
     "text": [
      "tf.Tensor(\n",
      "[[1 2 3]\n",
      " [1 2 3]\n",
      " [1 2 3]], shape=(3, 3), dtype=int32)\n"
     ]
    }
   ],
   "source": [
    "# Creamos un tensor 3-3 a partir de un componente\n",
    "print(tf.broadcast_to([1,2,3], [3,3]))"
   ]
  },
  {
   "cell_type": "markdown",
   "metadata": {},
   "source": [
    "## **Tensores Irregulares**"
   ]
  },
  {
   "cell_type": "markdown",
   "metadata": {},
   "source": [
    "Construimos un tensor irregular como el que se observa en la imagen:\n"
   ]
  }
 ],
 "metadata": {
  "kernelspec": {
   "display_name": "Python 3",
   "language": "python",
   "name": "python3"
  },
  "language_info": {
   "codemirror_mode": {
    "name": "ipython",
    "version": 3
   },
   "file_extension": ".py",
   "mimetype": "text/x-python",
   "name": "python",
   "nbconvert_exporter": "python",
   "pygments_lexer": "ipython3",
   "version": "3.8.5"
  }
 },
 "nbformat": 4,
 "nbformat_minor": 4
}
