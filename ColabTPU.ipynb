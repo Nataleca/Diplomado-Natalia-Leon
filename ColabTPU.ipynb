{
  "nbformat": 4,
  "nbformat_minor": 0,
  "metadata": {
    "colab": {
      "name": "ColabTPU.ipynb",
      "provenance": [],
      "authorship_tag": "ABX9TyPn0cQBm56mgQOXee8oh1J3",
      "include_colab_link": true
    },
    "kernelspec": {
      "name": "python3",
      "display_name": "Python 3"
    },
    "accelerator": "TPU"
  },
  "cells": [
    {
      "cell_type": "markdown",
      "metadata": {
        "id": "view-in-github",
        "colab_type": "text"
      },
      "source": [
        "<a href=\"https://colab.research.google.com/github/Nataleca/Diplomado-Natalia-Leon/blob/main/ColabTPU.ipynb\" target=\"_parent\"><img src=\"https://colab.research.google.com/assets/colab-badge.svg\" alt=\"Open In Colab\"/></a>"
      ]
    },
    {
      "cell_type": "markdown",
      "metadata": {
        "id": "wZpRzmYqIM0F"
      },
      "source": [
        "# **Diplomado en IA y AP**\n",
        "# **Leidy Natalia León Carvajal**\n",
        "# **Tarea 2: Parte 3**"
      ]
    },
    {
      "cell_type": "markdown",
      "metadata": {
        "id": "V92waStj3Klp"
      },
      "source": [
        "# Entendiendo Google-Colab: TPU"
      ]
    },
    {
      "cell_type": "markdown",
      "metadata": {
        "id": "vN6aBpoZ3oO4"
      },
      "source": [
        "## Lectura del conjunto de datos:"
      ]
    },
    {
      "cell_type": "code",
      "metadata": {
        "id": "HF6Zy5LS3rmQ"
      },
      "source": [
        "import numpy as np\n",
        "import os\n",
        "import gzip\n",
        "\n",
        "def cargar_datos(ruta, tipo='train'):\n",
        "\n",
        "  ruta_categorias = os.path.join(ruta, '%s-labels-idx1-ubyte.gz' %tipo)\n",
        "  ruta_imagenes=os.path.join(ruta,'%s-images-idx3-ubyte.gz' %tipo)\n",
        "\n",
        "  with gzip.open(ruta_categorias,'rb') as rut_cat:\n",
        "    etiquetas=np.frombuffer(rut_cat.read(),dtype=np.uint8,offset=8)\n",
        "\n",
        "  with gzip.open(ruta_imagenes,'rb') as rut_imgs:\n",
        "    imagenes=np.frombuffer(rut_imgs.read(),dtype=np.uint8,offset=16).reshape(len(etiquetas),784)\n",
        "\n",
        "  return imagenes, etiquetas"
      ],
      "execution_count": null,
      "outputs": []
    },
    {
      "cell_type": "markdown",
      "metadata": {
        "id": "yImuAO5F8CXQ"
      },
      "source": [
        "## Para acceder a Google Drive"
      ]
    },
    {
      "cell_type": "code",
      "metadata": {
        "colab": {
          "base_uri": "https://localhost:8080/"
        },
        "id": "7WbulKw78GY6",
        "outputId": "fa34538a-b3b6-43db-cd3f-c70bf2fe6c1e"
      },
      "source": [
        "from google.colab import drive\n",
        "drive.mount('/content/gdrive')\n",
        "\n",
        "ruta='gdrive/My Drive/IA y AP/fashion_mnist_data'\n",
        "\n",
        "X_train, Y_train = cargar_datos(ruta, tipo='train')\n",
        "X_test, Y_test = cargar_datos(ruta, tipo='test')"
      ],
      "execution_count": null,
      "outputs": [
        {
          "output_type": "stream",
          "text": [
            "Mounted at /content/gdrive\n"
          ],
          "name": "stdout"
        }
      ]
    },
    {
      "cell_type": "markdown",
      "metadata": {
        "id": "aQ97SvWG-aAb"
      },
      "source": [
        "## Ajustando el Tamaño de los datos (Múltiplos de 128)"
      ]
    },
    {
      "cell_type": "code",
      "metadata": {
        "id": "uXQ7thMx-fkR"
      },
      "source": [
        "ntrain=len(X_train)-len(X_train)%128\n",
        "ntest=len(X_test)-len(X_test)%128\n",
        "X_train = X_train[0:ntrain,:]\n",
        "X_test = X_test[0:ntest,:]\n",
        "Y_train = Y_train[0:ntrain]\n",
        "Y_test = Y_test[0:ntest]\n",
        "X_train = np.reshape(X_train,(ntrain,28,28,1))\n",
        "X_test = np.reshape(X_test,(ntest,28,28,1)) "
      ],
      "execution_count": null,
      "outputs": []
    },
    {
      "cell_type": "markdown",
      "metadata": {
        "id": "I2T5UX6BCH-w"
      },
      "source": [
        "## Importando ***Tensorflow 2***"
      ]
    },
    {
      "cell_type": "code",
      "metadata": {
        "colab": {
          "base_uri": "https://localhost:8080/"
        },
        "id": "_mnWpcsYCNn0",
        "outputId": "ad2c9f63-c1c4-4e05-c72d-5552827e012f"
      },
      "source": [
        "%tensorflow_version 2.x\n",
        "import tensorflow as tf\n",
        "\n",
        "print('Versión de Tensorflow: ' + tf.__version__)"
      ],
      "execution_count": null,
      "outputs": [
        {
          "output_type": "stream",
          "text": [
            "Versión de Tensorflow: 2.4.1\n"
          ],
          "name": "stdout"
        }
      ]
    },
    {
      "cell_type": "markdown",
      "metadata": {
        "id": "m33I9TcDQAAd"
      },
      "source": [
        "## Entrenando con **TPU**"
      ]
    },
    {
      "cell_type": "markdown",
      "metadata": {
        "id": "pLEHu1r8PO5R"
      },
      "source": [
        "### Configuramos **TPU**"
      ]
    },
    {
      "cell_type": "code",
      "metadata": {
        "colab": {
          "base_uri": "https://localhost:8080/"
        },
        "id": "Gm9IC2CiPU5T",
        "outputId": "b3ea6fe4-ea40-4038-a896-d8f008f16808"
      },
      "source": [
        "try:\n",
        "  tpu = tf.distribute.cluster_resolver.TPUClusterResolver(tpu='grpc://' + os.environ['COLAB_TPU_ADDR'])  # Detectar TPU\n",
        "  print('TPU encontrada ', tpu.cluster_spec().as_dict()['worker'])\n",
        "except ValueError:\n",
        "  raise BaseException('ERROR: TPU no encontrada!')\n",
        "\n",
        "tf.config.experimental_connect_to_cluster(tpu)\n",
        "tf.tpu.experimental.initialize_tpu_system(tpu)\n",
        "tpu_strategy = tf.distribute.experimental.TPUStrategy(tpu)"
      ],
      "execution_count": null,
      "outputs": [
        {
          "output_type": "stream",
          "text": [
            "TPU encontrada  ['10.87.87.42:8470']\n",
            "WARNING:tensorflow:TPU system grpc://10.87.87.42:8470 has already been initialized. Reinitializing the TPU can cause previously created variables on TPU to be lost.\n"
          ],
          "name": "stdout"
        },
        {
          "output_type": "stream",
          "text": [
            "WARNING:tensorflow:TPU system grpc://10.87.87.42:8470 has already been initialized. Reinitializing the TPU can cause previously created variables on TPU to be lost.\n"
          ],
          "name": "stderr"
        },
        {
          "output_type": "stream",
          "text": [
            "INFO:tensorflow:Initializing the TPU system: grpc://10.87.87.42:8470\n"
          ],
          "name": "stdout"
        },
        {
          "output_type": "stream",
          "text": [
            "INFO:tensorflow:Initializing the TPU system: grpc://10.87.87.42:8470\n"
          ],
          "name": "stderr"
        },
        {
          "output_type": "stream",
          "text": [
            "INFO:tensorflow:Clearing out eager caches\n"
          ],
          "name": "stdout"
        },
        {
          "output_type": "stream",
          "text": [
            "INFO:tensorflow:Clearing out eager caches\n"
          ],
          "name": "stderr"
        },
        {
          "output_type": "stream",
          "text": [
            "INFO:tensorflow:Finished initializing TPU system.\n"
          ],
          "name": "stdout"
        },
        {
          "output_type": "stream",
          "text": [
            "INFO:tensorflow:Finished initializing TPU system.\n",
            "WARNING:absl:`tf.distribute.experimental.TPUStrategy` is deprecated, please use  the non experimental symbol `tf.distribute.TPUStrategy` instead.\n"
          ],
          "name": "stderr"
        },
        {
          "output_type": "stream",
          "text": [
            "INFO:tensorflow:Found TPU system:\n"
          ],
          "name": "stdout"
        },
        {
          "output_type": "stream",
          "text": [
            "INFO:tensorflow:Found TPU system:\n"
          ],
          "name": "stderr"
        },
        {
          "output_type": "stream",
          "text": [
            "INFO:tensorflow:*** Num TPU Cores: 8\n"
          ],
          "name": "stdout"
        },
        {
          "output_type": "stream",
          "text": [
            "INFO:tensorflow:*** Num TPU Cores: 8\n"
          ],
          "name": "stderr"
        },
        {
          "output_type": "stream",
          "text": [
            "INFO:tensorflow:*** Num TPU Workers: 1\n"
          ],
          "name": "stdout"
        },
        {
          "output_type": "stream",
          "text": [
            "INFO:tensorflow:*** Num TPU Workers: 1\n"
          ],
          "name": "stderr"
        },
        {
          "output_type": "stream",
          "text": [
            "INFO:tensorflow:*** Num TPU Cores Per Worker: 8\n"
          ],
          "name": "stdout"
        },
        {
          "output_type": "stream",
          "text": [
            "INFO:tensorflow:*** Num TPU Cores Per Worker: 8\n"
          ],
          "name": "stderr"
        },
        {
          "output_type": "stream",
          "text": [
            "INFO:tensorflow:*** Available Device: _DeviceAttributes(/job:localhost/replica:0/task:0/device:CPU:0, CPU, 0, 0)\n"
          ],
          "name": "stdout"
        },
        {
          "output_type": "stream",
          "text": [
            "INFO:tensorflow:*** Available Device: _DeviceAttributes(/job:localhost/replica:0/task:0/device:CPU:0, CPU, 0, 0)\n"
          ],
          "name": "stderr"
        },
        {
          "output_type": "stream",
          "text": [
            "INFO:tensorflow:*** Available Device: _DeviceAttributes(/job:worker/replica:0/task:0/device:CPU:0, CPU, 0, 0)\n"
          ],
          "name": "stdout"
        },
        {
          "output_type": "stream",
          "text": [
            "INFO:tensorflow:*** Available Device: _DeviceAttributes(/job:worker/replica:0/task:0/device:CPU:0, CPU, 0, 0)\n"
          ],
          "name": "stderr"
        },
        {
          "output_type": "stream",
          "text": [
            "INFO:tensorflow:*** Available Device: _DeviceAttributes(/job:worker/replica:0/task:0/device:TPU:0, TPU, 0, 0)\n"
          ],
          "name": "stdout"
        },
        {
          "output_type": "stream",
          "text": [
            "INFO:tensorflow:*** Available Device: _DeviceAttributes(/job:worker/replica:0/task:0/device:TPU:0, TPU, 0, 0)\n"
          ],
          "name": "stderr"
        },
        {
          "output_type": "stream",
          "text": [
            "INFO:tensorflow:*** Available Device: _DeviceAttributes(/job:worker/replica:0/task:0/device:TPU:1, TPU, 0, 0)\n"
          ],
          "name": "stdout"
        },
        {
          "output_type": "stream",
          "text": [
            "INFO:tensorflow:*** Available Device: _DeviceAttributes(/job:worker/replica:0/task:0/device:TPU:1, TPU, 0, 0)\n"
          ],
          "name": "stderr"
        },
        {
          "output_type": "stream",
          "text": [
            "INFO:tensorflow:*** Available Device: _DeviceAttributes(/job:worker/replica:0/task:0/device:TPU:2, TPU, 0, 0)\n"
          ],
          "name": "stdout"
        },
        {
          "output_type": "stream",
          "text": [
            "INFO:tensorflow:*** Available Device: _DeviceAttributes(/job:worker/replica:0/task:0/device:TPU:2, TPU, 0, 0)\n"
          ],
          "name": "stderr"
        },
        {
          "output_type": "stream",
          "text": [
            "INFO:tensorflow:*** Available Device: _DeviceAttributes(/job:worker/replica:0/task:0/device:TPU:3, TPU, 0, 0)\n"
          ],
          "name": "stdout"
        },
        {
          "output_type": "stream",
          "text": [
            "INFO:tensorflow:*** Available Device: _DeviceAttributes(/job:worker/replica:0/task:0/device:TPU:3, TPU, 0, 0)\n"
          ],
          "name": "stderr"
        },
        {
          "output_type": "stream",
          "text": [
            "INFO:tensorflow:*** Available Device: _DeviceAttributes(/job:worker/replica:0/task:0/device:TPU:4, TPU, 0, 0)\n"
          ],
          "name": "stdout"
        },
        {
          "output_type": "stream",
          "text": [
            "INFO:tensorflow:*** Available Device: _DeviceAttributes(/job:worker/replica:0/task:0/device:TPU:4, TPU, 0, 0)\n"
          ],
          "name": "stderr"
        },
        {
          "output_type": "stream",
          "text": [
            "INFO:tensorflow:*** Available Device: _DeviceAttributes(/job:worker/replica:0/task:0/device:TPU:5, TPU, 0, 0)\n"
          ],
          "name": "stdout"
        },
        {
          "output_type": "stream",
          "text": [
            "INFO:tensorflow:*** Available Device: _DeviceAttributes(/job:worker/replica:0/task:0/device:TPU:5, TPU, 0, 0)\n"
          ],
          "name": "stderr"
        },
        {
          "output_type": "stream",
          "text": [
            "INFO:tensorflow:*** Available Device: _DeviceAttributes(/job:worker/replica:0/task:0/device:TPU:6, TPU, 0, 0)\n"
          ],
          "name": "stdout"
        },
        {
          "output_type": "stream",
          "text": [
            "INFO:tensorflow:*** Available Device: _DeviceAttributes(/job:worker/replica:0/task:0/device:TPU:6, TPU, 0, 0)\n"
          ],
          "name": "stderr"
        },
        {
          "output_type": "stream",
          "text": [
            "INFO:tensorflow:*** Available Device: _DeviceAttributes(/job:worker/replica:0/task:0/device:TPU:7, TPU, 0, 0)\n"
          ],
          "name": "stdout"
        },
        {
          "output_type": "stream",
          "text": [
            "INFO:tensorflow:*** Available Device: _DeviceAttributes(/job:worker/replica:0/task:0/device:TPU:7, TPU, 0, 0)\n"
          ],
          "name": "stderr"
        },
        {
          "output_type": "stream",
          "text": [
            "INFO:tensorflow:*** Available Device: _DeviceAttributes(/job:worker/replica:0/task:0/device:TPU_SYSTEM:0, TPU_SYSTEM, 0, 0)\n"
          ],
          "name": "stdout"
        },
        {
          "output_type": "stream",
          "text": [
            "INFO:tensorflow:*** Available Device: _DeviceAttributes(/job:worker/replica:0/task:0/device:TPU_SYSTEM:0, TPU_SYSTEM, 0, 0)\n"
          ],
          "name": "stderr"
        },
        {
          "output_type": "stream",
          "text": [
            "INFO:tensorflow:*** Available Device: _DeviceAttributes(/job:worker/replica:0/task:0/device:XLA_CPU:0, XLA_CPU, 0, 0)\n"
          ],
          "name": "stdout"
        },
        {
          "output_type": "stream",
          "text": [
            "INFO:tensorflow:*** Available Device: _DeviceAttributes(/job:worker/replica:0/task:0/device:XLA_CPU:0, XLA_CPU, 0, 0)\n"
          ],
          "name": "stderr"
        }
      ]
    },
    {
      "cell_type": "markdown",
      "metadata": {
        "id": "XQcxnKUuDJtr"
      },
      "source": [
        "### Creación del modelo con ***tpu_strategy***"
      ]
    },
    {
      "cell_type": "code",
      "metadata": {
        "colab": {
          "base_uri": "https://localhost:8080/"
        },
        "id": "HCK0GvrWDOwO",
        "outputId": "ef58e7a0-0954-4d3f-8a88-db98d4ab1b07"
      },
      "source": [
        "tf.random.set_seed(200)\n",
        "\n",
        "with tpu_strategy.scope():\n",
        "  model = tf.keras.models.Sequential()\n",
        "\n",
        "  model.add(tf.keras.layers.BatchNormalization(input_shape=X_train.shape[1:])) # Normalización\n",
        "  model.add(tf.keras.layers.Conv2D(64, (5,5), padding='same', activation='elu')) # Filtro Convolucional\n",
        "  model.add(tf.keras.layers.MaxPooling2D(pool_size=(2,2), strides=(2,2))) # Capa MaxPooling\n",
        "  model.add(tf.keras.layers.Dropout(0.25)) # Capa Dropout\n",
        "\n",
        "  model.add(tf.keras.layers.BatchNormalization(input_shape=X_train.shape[1:])) # Normalización\n",
        "  model.add(tf.keras.layers.Conv2D(128, (5,5), padding='same', activation='elu')) # Filtro Convolucional\n",
        "  model.add(tf.keras.layers.MaxPooling2D(pool_size=(2,2)))# Capa MaxPooling\n",
        "  model.add(tf.keras.layers.Dropout(0.25)) # Capa Dropout\n",
        "\n",
        "  model.add(tf.keras.layers.BatchNormalization(input_shape=X_train.shape[1:])) # Normalización\n",
        "  model.add(tf.keras.layers.Conv2D(256, (5,5), padding='same', activation='elu')) # Filtro Convolucional\n",
        "  model.add(tf.keras.layers.MaxPooling2D(pool_size=(2,2), strides=(2,2)))# Capa MaxPooling\n",
        "  model.add(tf.keras.layers.Dropout(0.25)) # Capa Dropout\n",
        "\n",
        "  model.add(tf.keras.layers.Flatten()) # Aplanamos datos\n",
        "  model.add(tf.keras.layers.Dense(256)) # Agregamos red neuronal (256 neuronas)\n",
        "  model.add(tf.keras.layers.Activation('elu'))\n",
        "  model.add(tf.keras.layers.Dropout(0.5))\n",
        "  model.add(tf.keras.layers.Dense(10)) # Salida de 10 neuronas\n",
        "  model.add(tf.keras.layers.Activation('softmax')) # Función de activación 'softmax'\n",
        "\n",
        "  # Optimizador 'adam'\n",
        "  model.compile(optimizer='adam',loss='sparse_categorical_crossentropy',metrics=['accuracy'])\n",
        "\n",
        "  # Imprime en pantalla la información del modelo\n",
        "  model.summary()\n"
      ],
      "execution_count": null,
      "outputs": [
        {
          "output_type": "stream",
          "text": [
            "Model: \"sequential_3\"\n",
            "_________________________________________________________________\n",
            "Layer (type)                 Output Shape              Param #   \n",
            "=================================================================\n",
            "batch_normalization_9 (Batch (None, 28, 28, 1)         4         \n",
            "_________________________________________________________________\n",
            "conv2d_9 (Conv2D)            (None, 28, 28, 64)        1664      \n",
            "_________________________________________________________________\n",
            "max_pooling2d_9 (MaxPooling2 (None, 14, 14, 64)        0         \n",
            "_________________________________________________________________\n",
            "dropout_12 (Dropout)         (None, 14, 14, 64)        0         \n",
            "_________________________________________________________________\n",
            "batch_normalization_10 (Batc (None, 14, 14, 64)        256       \n",
            "_________________________________________________________________\n",
            "conv2d_10 (Conv2D)           (None, 14, 14, 128)       204928    \n",
            "_________________________________________________________________\n",
            "max_pooling2d_10 (MaxPooling (None, 7, 7, 128)         0         \n",
            "_________________________________________________________________\n",
            "dropout_13 (Dropout)         (None, 7, 7, 128)         0         \n",
            "_________________________________________________________________\n",
            "batch_normalization_11 (Batc (None, 7, 7, 128)         512       \n",
            "_________________________________________________________________\n",
            "conv2d_11 (Conv2D)           (None, 7, 7, 256)         819456    \n",
            "_________________________________________________________________\n",
            "max_pooling2d_11 (MaxPooling (None, 3, 3, 256)         0         \n",
            "_________________________________________________________________\n",
            "dropout_14 (Dropout)         (None, 3, 3, 256)         0         \n",
            "_________________________________________________________________\n",
            "flatten_3 (Flatten)          (None, 2304)              0         \n",
            "_________________________________________________________________\n",
            "dense_6 (Dense)              (None, 256)               590080    \n",
            "_________________________________________________________________\n",
            "activation_6 (Activation)    (None, 256)               0         \n",
            "_________________________________________________________________\n",
            "dropout_15 (Dropout)         (None, 256)               0         \n",
            "_________________________________________________________________\n",
            "dense_7 (Dense)              (None, 10)                2570      \n",
            "_________________________________________________________________\n",
            "activation_7 (Activation)    (None, 10)                0         \n",
            "=================================================================\n",
            "Total params: 1,619,470\n",
            "Trainable params: 1,619,084\n",
            "Non-trainable params: 386\n",
            "_________________________________________________________________\n"
          ],
          "name": "stdout"
        }
      ]
    },
    {
      "cell_type": "markdown",
      "metadata": {
        "id": "OUZ5S8lJFkGa"
      },
      "source": [
        "## Entrenando con **TPU**"
      ]
    },
    {
      "cell_type": "markdown",
      "metadata": {
        "id": "fp_KjpWHF6YQ"
      },
      "source": [
        "Se realizan **2 iteraciones**"
      ]
    },
    {
      "cell_type": "code",
      "metadata": {
        "id": "g15_0c0OF-XD",
        "colab": {
          "base_uri": "https://localhost:8080/"
        },
        "outputId": "4aa064d0-3cf1-4b41-d9b3-c1f5520f4f3c"
      },
      "source": [
        "import timeit\n",
        "\n",
        "# Convertir a punto flotante\n",
        "x_train = X_train.astype(np.float32)\n",
        "y_train = Y_train.astype(np.float32)\n",
        "x_test = X_test.astype(np.float32)\n",
        "y_test = Y_test.astype(np.float32)\n",
        "\n",
        "def train_tpu():\n",
        "  model.fit(x_train,y_train,validation_data=(x_test,y_test), batch_size=128, epochs=2, verbose=1)\n",
        "  \n",
        "  return None\n",
        "\n",
        "tpu_time = timeit.timeit('train_tpu()', number=1, setup='from __main__ import train_tpu')"
      ],
      "execution_count": null,
      "outputs": [
        {
          "output_type": "stream",
          "text": [
            "Epoch 1/2\n",
            "468/468 [==============================] - 9s 19ms/step - loss: 0.3242 - accuracy: 0.8829 - val_loss: 0.2883 - val_accuracy: 0.8965\n",
            "Epoch 2/2\n",
            "468/468 [==============================] - 9s 18ms/step - loss: 0.2844 - accuracy: 0.8963 - val_loss: 0.2664 - val_accuracy: 0.9029\n"
          ],
          "name": "stdout"
        }
      ]
    },
    {
      "cell_type": "code",
      "metadata": {
        "colab": {
          "base_uri": "https://localhost:8080/"
        },
        "id": "pR6zPO-5MonS",
        "outputId": "447f7ab2-98f1-4fbb-bf23-0b029ae5fd9b"
      },
      "source": [
        "print('Tiempo de entrenamiento: ' + str(tpu_time) + ' segundos!!!')"
      ],
      "execution_count": null,
      "outputs": [
        {
          "output_type": "stream",
          "text": [
            "Tiempo de entrenamiento: 20.069704892000118 segundos!!!\n"
          ],
          "name": "stdout"
        }
      ]
    },
    {
      "cell_type": "markdown",
      "metadata": {
        "id": "u4PWN7QdNOvj"
      },
      "source": [
        "Tiempo de entrenamiento: 20.069704892000118 segundos!!!"
      ]
    }
  ]
}