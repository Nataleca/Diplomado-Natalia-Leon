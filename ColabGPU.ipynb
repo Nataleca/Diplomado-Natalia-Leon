{
  "nbformat": 4,
  "nbformat_minor": 0,
  "metadata": {
    "colab": {
      "name": "ColabGPU.ipynb",
      "provenance": [],
      "authorship_tag": "ABX9TyPN9UZwa0XFG7Sg/jONb6Uf",
      "include_colab_link": true
    },
    "kernelspec": {
      "name": "python3",
      "display_name": "Python 3"
    },
    "accelerator": "GPU"
  },
  "cells": [
    {
      "cell_type": "markdown",
      "metadata": {
        "id": "view-in-github",
        "colab_type": "text"
      },
      "source": [
        "<a href=\"https://colab.research.google.com/github/Nataleca/Diplomado-Natalia-Leon/blob/main/ColabGPU.ipynb\" target=\"_parent\"><img src=\"https://colab.research.google.com/assets/colab-badge.svg\" alt=\"Open In Colab\"/></a>"
      ]
    },
    {
      "cell_type": "markdown",
      "metadata": {
        "id": "wZpRzmYqIM0F"
      },
      "source": [
        "# **Diplomado en IA y AP**\n",
        "# **Leidy Natalia León Carvajal**\n",
        "# **Tarea 2: Parte 2**"
      ]
    },
    {
      "cell_type": "markdown",
      "metadata": {
        "id": "V92waStj3Klp"
      },
      "source": [
        "# Entendiendo Google-Colab: GPU"
      ]
    },
    {
      "cell_type": "markdown",
      "metadata": {
        "id": "vN6aBpoZ3oO4"
      },
      "source": [
        "## Lectura del conjunto de datos:"
      ]
    },
    {
      "cell_type": "code",
      "metadata": {
        "id": "HF6Zy5LS3rmQ"
      },
      "source": [
        "import numpy as np\n",
        "import os\n",
        "import gzip\n",
        "\n",
        "def cargar_datos(ruta, tipo='train'):\n",
        "\n",
        "  ruta_categorias = os.path.join(ruta, '%s-labels-idx1-ubyte.gz' %tipo)\n",
        "  ruta_imagenes=os.path.join(ruta,'%s-images-idx3-ubyte.gz' %tipo)\n",
        "\n",
        "  with gzip.open(ruta_categorias,'rb') as rut_cat:\n",
        "    etiquetas=np.frombuffer(rut_cat.read(),dtype=np.uint8,offset=8)\n",
        "\n",
        "  with gzip.open(ruta_imagenes,'rb') as rut_imgs:\n",
        "    imagenes=np.frombuffer(rut_imgs.read(),dtype=np.uint8,offset=16).reshape(len(etiquetas),784)\n",
        "\n",
        "  return imagenes, etiquetas"
      ],
      "execution_count": null,
      "outputs": []
    },
    {
      "cell_type": "markdown",
      "metadata": {
        "id": "yImuAO5F8CXQ"
      },
      "source": [
        "## Para acceder a Google Drive"
      ]
    },
    {
      "cell_type": "code",
      "metadata": {
        "colab": {
          "base_uri": "https://localhost:8080/"
        },
        "id": "7WbulKw78GY6",
        "outputId": "d9ccbba9-dc9d-49bc-8e51-4bf4aed11090"
      },
      "source": [
        "from google.colab import drive\n",
        "drive.mount('/content/gdrive')\n",
        "\n",
        "ruta='gdrive/My Drive/IA y AP/fashion_mnist_data'\n",
        "\n",
        "X_train, Y_train = cargar_datos(ruta, tipo='train')\n",
        "X_test, Y_test = cargar_datos(ruta, tipo='test')"
      ],
      "execution_count": null,
      "outputs": [
        {
          "output_type": "stream",
          "text": [
            "Mounted at /content/gdrive\n"
          ],
          "name": "stdout"
        }
      ]
    },
    {
      "cell_type": "markdown",
      "metadata": {
        "id": "aQ97SvWG-aAb"
      },
      "source": [
        "## Ajustando el Tamaño de los datos (Múltiplos de 128 para comparar con TPU)"
      ]
    },
    {
      "cell_type": "code",
      "metadata": {
        "id": "uXQ7thMx-fkR"
      },
      "source": [
        "ntrain=len(X_train)-len(X_train)%128\n",
        "ntest=len(X_test)-len(X_test)%128\n",
        "X_train = X_train[0:ntrain,:]\n",
        "X_test = X_test[0:ntest,:]\n",
        "Y_train = Y_train[0:ntrain]\n",
        "Y_test = Y_test[0:ntest]\n",
        "X_train = np.reshape(X_train,(ntrain,28,28,1))\n",
        "X_test = np.reshape(X_test,(ntest,28,28,1)) "
      ],
      "execution_count": null,
      "outputs": []
    },
    {
      "cell_type": "markdown",
      "metadata": {
        "id": "I2T5UX6BCH-w"
      },
      "source": [
        "## Importando ***Tensorflow 2***"
      ]
    },
    {
      "cell_type": "code",
      "metadata": {
        "colab": {
          "base_uri": "https://localhost:8080/"
        },
        "id": "_mnWpcsYCNn0",
        "outputId": "27816f4c-8e26-4026-8072-926d752bb38b"
      },
      "source": [
        "%tensorflow_version 2.x\n",
        "import tensorflow as tf\n",
        "\n",
        "print('Versión de Tensorflow: ' + tf.__version__)"
      ],
      "execution_count": null,
      "outputs": [
        {
          "output_type": "stream",
          "text": [
            "Versión de Tensorflow: 2.4.1\n"
          ],
          "name": "stdout"
        }
      ]
    },
    {
      "cell_type": "markdown",
      "metadata": {
        "id": "XQcxnKUuDJtr"
      },
      "source": [
        "### Creación del modelo con ***Keras***"
      ]
    },
    {
      "cell_type": "code",
      "metadata": {
        "colab": {
          "base_uri": "https://localhost:8080/"
        },
        "id": "HCK0GvrWDOwO",
        "outputId": "4248b6ce-b3cd-4f3b-de0b-4e01e617f5ef"
      },
      "source": [
        "tf.random.set_seed(200)\n",
        "model = tf.keras.models.Sequential()\n",
        "\n",
        "model.add(tf.keras.layers.BatchNormalization(input_shape=X_train.shape[1:])) # Normalización\n",
        "model.add(tf.keras.layers.Conv2D(64, (5,5), padding='same', activation='elu')) # Filtro Convolucional\n",
        "model.add(tf.keras.layers.MaxPooling2D(pool_size=(2,2), strides=(2,2))) # Capa MaxPooling\n",
        "model.add(tf.keras.layers.Dropout(0.25)) # Capa Dropout\n",
        "\n",
        "model.add(tf.keras.layers.BatchNormalization(input_shape=X_train.shape[1:])) # Normalización\n",
        "model.add(tf.keras.layers.Conv2D(128, (5,5), padding='same', activation='elu')) # Filtro Convolucional\n",
        "model.add(tf.keras.layers.MaxPooling2D(pool_size=(2,2)))# Capa MaxPooling\n",
        "model.add(tf.keras.layers.Dropout(0.25)) # Capa Dropout\n",
        "\n",
        "model.add(tf.keras.layers.BatchNormalization(input_shape=X_train.shape[1:])) # Normalización\n",
        "model.add(tf.keras.layers.Conv2D(256, (5,5), padding='same', activation='elu')) # Filtro Convolucional\n",
        "model.add(tf.keras.layers.MaxPooling2D(pool_size=(2,2), strides=(2,2)))# Capa MaxPooling\n",
        "model.add(tf.keras.layers.Dropout(0.25)) # Capa Dropout\n",
        "\n",
        "model.add(tf.keras.layers.Flatten()) # Aplanamos datos\n",
        "model.add(tf.keras.layers.Dense(256)) # Agregamos red neuronal (256 neuronas)\n",
        "model.add(tf.keras.layers.Activation('elu'))\n",
        "model.add(tf.keras.layers.Dropout(0.5))\n",
        "model.add(tf.keras.layers.Dense(10)) # Salida de 10 neuronas\n",
        "model.add(tf.keras.layers.Activation('softmax')) # Función de activación 'softmax'\n",
        "\n",
        "# Imprime en pantalla la información del modelo\n",
        "model.summary()\n",
        "\n"
      ],
      "execution_count": null,
      "outputs": [
        {
          "output_type": "stream",
          "text": [
            "Model: \"sequential\"\n",
            "_________________________________________________________________\n",
            "Layer (type)                 Output Shape              Param #   \n",
            "=================================================================\n",
            "batch_normalization (BatchNo (None, 28, 28, 1)         4         \n",
            "_________________________________________________________________\n",
            "conv2d (Conv2D)              (None, 28, 28, 64)        1664      \n",
            "_________________________________________________________________\n",
            "max_pooling2d (MaxPooling2D) (None, 14, 14, 64)        0         \n",
            "_________________________________________________________________\n",
            "dropout (Dropout)            (None, 14, 14, 64)        0         \n",
            "_________________________________________________________________\n",
            "batch_normalization_1 (Batch (None, 14, 14, 64)        256       \n",
            "_________________________________________________________________\n",
            "conv2d_1 (Conv2D)            (None, 14, 14, 128)       204928    \n",
            "_________________________________________________________________\n",
            "max_pooling2d_1 (MaxPooling2 (None, 7, 7, 128)         0         \n",
            "_________________________________________________________________\n",
            "dropout_1 (Dropout)          (None, 7, 7, 128)         0         \n",
            "_________________________________________________________________\n",
            "batch_normalization_2 (Batch (None, 7, 7, 128)         512       \n",
            "_________________________________________________________________\n",
            "conv2d_2 (Conv2D)            (None, 7, 7, 256)         819456    \n",
            "_________________________________________________________________\n",
            "max_pooling2d_2 (MaxPooling2 (None, 3, 3, 256)         0         \n",
            "_________________________________________________________________\n",
            "dropout_2 (Dropout)          (None, 3, 3, 256)         0         \n",
            "_________________________________________________________________\n",
            "flatten (Flatten)            (None, 2304)              0         \n",
            "_________________________________________________________________\n",
            "dense (Dense)                (None, 256)               590080    \n",
            "_________________________________________________________________\n",
            "activation (Activation)      (None, 256)               0         \n",
            "_________________________________________________________________\n",
            "dropout_3 (Dropout)          (None, 256)               0         \n",
            "_________________________________________________________________\n",
            "dense_1 (Dense)              (None, 10)                2570      \n",
            "_________________________________________________________________\n",
            "activation_1 (Activation)    (None, 10)                0         \n",
            "=================================================================\n",
            "Total params: 1,619,470\n",
            "Trainable params: 1,619,084\n",
            "Non-trainable params: 386\n",
            "_________________________________________________________________\n"
          ],
          "name": "stdout"
        }
      ]
    },
    {
      "cell_type": "code",
      "metadata": {
        "id": "aDU3SL-5FXXg"
      },
      "source": [
        "# Optimizador 'adam'\n",
        "model.compile(optimizer='adam',loss='sparse_categorical_crossentropy',metrics=['accuracy'])"
      ],
      "execution_count": null,
      "outputs": []
    },
    {
      "cell_type": "markdown",
      "metadata": {
        "id": "OUZ5S8lJFkGa"
      },
      "source": [
        "## Entrenando con **GPU**"
      ]
    },
    {
      "cell_type": "markdown",
      "metadata": {
        "id": "J9zd9i8BK2Zh"
      },
      "source": [
        "Verificamos la disponibilidad de la **GPU**:"
      ]
    },
    {
      "cell_type": "code",
      "metadata": {
        "colab": {
          "base_uri": "https://localhost:8080/"
        },
        "id": "At7DXcc9K0TU",
        "outputId": "dc0f365d-3fbd-4c7b-9156-adb9505daff6"
      },
      "source": [
        "nombre_gpu = tf.test.gpu_device_name()\n",
        "if nombre_gpu != '/device:GPU:0':\n",
        "  raise SystemError('GPU no encontrada')\n",
        "print('GPU encontrada: {}'.format(nombre_gpu))"
      ],
      "execution_count": null,
      "outputs": [
        {
          "output_type": "stream",
          "text": [
            "GPU encontrada: /device:GPU:0\n"
          ],
          "name": "stdout"
        }
      ]
    },
    {
      "cell_type": "markdown",
      "metadata": {
        "id": "fp_KjpWHF6YQ"
      },
      "source": [
        "Se realizan **2 iteraciones**"
      ]
    },
    {
      "cell_type": "code",
      "metadata": {
        "id": "g15_0c0OF-XD",
        "colab": {
          "base_uri": "https://localhost:8080/"
        },
        "outputId": "af9f9efa-6a8e-4776-df49-62d17e5f7ab2"
      },
      "source": [
        "import timeit\n",
        "\n",
        "def train_gpu():\n",
        "  with tf.device('/GPU:0'):\n",
        "    model.fit(X_train,Y_train,validation_data=(X_test,Y_test),batch_size=128,epochs=2,verbose=1)\n",
        "  \n",
        "  return None\n",
        "\n",
        "gpu_time = timeit.timeit('train_gpu()', number=1, setup='from __main__ import train_gpu')"
      ],
      "execution_count": null,
      "outputs": [
        {
          "output_type": "stream",
          "text": [
            "Epoch 1/2\n",
            "468/468 [==============================] - 8s 17ms/step - loss: 0.5943 - accuracy: 0.8037 - val_loss: 0.3720 - val_accuracy: 0.8684\n",
            "Epoch 2/2\n",
            "468/468 [==============================] - 8s 17ms/step - loss: 0.3865 - accuracy: 0.8654 - val_loss: 0.3447 - val_accuracy: 0.8805\n"
          ],
          "name": "stdout"
        }
      ]
    },
    {
      "cell_type": "code",
      "metadata": {
        "colab": {
          "base_uri": "https://localhost:8080/"
        },
        "id": "pR6zPO-5MonS",
        "outputId": "35421206-1b67-404a-98ef-cdc14402b0c9"
      },
      "source": [
        "print('Tiempo de entrenamiento: ' + str(gpu_time) + ' segundos!!!')"
      ],
      "execution_count": null,
      "outputs": [
        {
          "output_type": "stream",
          "text": [
            "Tiempo de entrenamiento: 15.811976633000029 segundos!!!\n"
          ],
          "name": "stdout"
        }
      ]
    },
    {
      "cell_type": "markdown",
      "metadata": {
        "id": "u4PWN7QdNOvj"
      },
      "source": [
        "Tiempo de entrenamiento: 15.811976633000029 segundos!!!"
      ]
    }
  ]
}