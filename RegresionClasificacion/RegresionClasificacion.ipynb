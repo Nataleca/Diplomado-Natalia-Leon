{
 "cells": [
  {
   "cell_type": "markdown",
   "metadata": {},
   "source": [
    "**Universidad Nacional de Colombia**\n",
    "\n",
    "**Diplomado en Inteligencia Artificial y Aprendizaje Profundo**\n",
    "\n",
    "**Leidy Natalia León Carvajal**\n",
    "\n",
    "**lnleonc@unal.edu.co**"
   ]
  },
  {
   "cell_type": "markdown",
   "metadata": {},
   "source": [
    "## **Regresión y Clasificación**"
   ]
  },
  {
   "cell_type": "markdown",
   "metadata": {},
   "source": [
    "### **Punto 1: Breast Cancer Winsconsin**\n",
    "\n",
    "### Construya una red neuronal de clasificación binaria para predecir el cáncer de seno. Use los datos Breast Cancer Wisconsin."
   ]
  },
  {
   "cell_type": "markdown",
   "metadata": {},
   "source": [
    "### Importaremos las librerías necesarias para trabajar:"
   ]
  },
  {
   "cell_type": "code",
   "execution_count": 236,
   "metadata": {},
   "outputs": [],
   "source": [
    "import pandas as pd\n",
    "import matplotlib.pyplot as plt\n",
    "import seaborn as sb\n",
    "import tensorflow as tf\n",
    "from tensorflow import keras\n",
    "from tensorflow.estimator import LinearClassifier\n",
    "from sklearn.model_selection import train_test_split\n",
    "from sklearn.metrics import accuracy_score, precision_score, recall_score\n",
    "\n",
    "# Cargamos los modelos\n",
    "\n",
    "from tensorflow.keras.models import Sequential\n",
    "from tensorflow.keras.layers import Dense, Dropout\n",
    "from tensorflow.keras.utils import plot_model\n",
    "from sklearn.preprocessing import LabelEncoder\n",
    "from sklearn.model_selection import train_test_split\n",
    "from sklearn.preprocessing import StandardScaler\n",
    "from sklearn.metrics import confusion_matrix\n",
    "from tensorflow.keras import Model\n",
    "from tensorflow.keras.layers import Dense, Activation, Dropout"
   ]
  },
  {
   "cell_type": "markdown",
   "metadata": {},
   "source": [
    "### Cargaremos ahora la base de datos obtenida de [https://www.kaggle.com/uciml/breast-cancer-wisconsin-data](https://www.kaggle.com/uciml/breast-cancer-wisconsin-data)"
   ]
  },
  {
   "cell_type": "code",
   "execution_count": 237,
   "metadata": {},
   "outputs": [
    {
     "data": {
      "text/html": [
       "<div>\n",
       "<style scoped>\n",
       "    .dataframe tbody tr th:only-of-type {\n",
       "        vertical-align: middle;\n",
       "    }\n",
       "\n",
       "    .dataframe tbody tr th {\n",
       "        vertical-align: top;\n",
       "    }\n",
       "\n",
       "    .dataframe thead th {\n",
       "        text-align: right;\n",
       "    }\n",
       "</style>\n",
       "<table border=\"1\" class=\"dataframe\">\n",
       "  <thead>\n",
       "    <tr style=\"text-align: right;\">\n",
       "      <th></th>\n",
       "      <th>id</th>\n",
       "      <th>diagnosis</th>\n",
       "      <th>radius_mean</th>\n",
       "      <th>texture_mean</th>\n",
       "      <th>perimeter_mean</th>\n",
       "      <th>area_mean</th>\n",
       "      <th>smoothness_mean</th>\n",
       "      <th>compactness_mean</th>\n",
       "      <th>concavity_mean</th>\n",
       "      <th>concave points_mean</th>\n",
       "      <th>...</th>\n",
       "      <th>texture_worst</th>\n",
       "      <th>perimeter_worst</th>\n",
       "      <th>area_worst</th>\n",
       "      <th>smoothness_worst</th>\n",
       "      <th>compactness_worst</th>\n",
       "      <th>concavity_worst</th>\n",
       "      <th>concave points_worst</th>\n",
       "      <th>symmetry_worst</th>\n",
       "      <th>fractal_dimension_worst</th>\n",
       "      <th>Unnamed: 32</th>\n",
       "    </tr>\n",
       "  </thead>\n",
       "  <tbody>\n",
       "    <tr>\n",
       "      <th>0</th>\n",
       "      <td>842302</td>\n",
       "      <td>M</td>\n",
       "      <td>17.99</td>\n",
       "      <td>10.38</td>\n",
       "      <td>122.80</td>\n",
       "      <td>1001.0</td>\n",
       "      <td>0.11840</td>\n",
       "      <td>0.27760</td>\n",
       "      <td>0.3001</td>\n",
       "      <td>0.14710</td>\n",
       "      <td>...</td>\n",
       "      <td>17.33</td>\n",
       "      <td>184.60</td>\n",
       "      <td>2019.0</td>\n",
       "      <td>0.1622</td>\n",
       "      <td>0.6656</td>\n",
       "      <td>0.7119</td>\n",
       "      <td>0.2654</td>\n",
       "      <td>0.4601</td>\n",
       "      <td>0.11890</td>\n",
       "      <td>NaN</td>\n",
       "    </tr>\n",
       "    <tr>\n",
       "      <th>1</th>\n",
       "      <td>842517</td>\n",
       "      <td>M</td>\n",
       "      <td>20.57</td>\n",
       "      <td>17.77</td>\n",
       "      <td>132.90</td>\n",
       "      <td>1326.0</td>\n",
       "      <td>0.08474</td>\n",
       "      <td>0.07864</td>\n",
       "      <td>0.0869</td>\n",
       "      <td>0.07017</td>\n",
       "      <td>...</td>\n",
       "      <td>23.41</td>\n",
       "      <td>158.80</td>\n",
       "      <td>1956.0</td>\n",
       "      <td>0.1238</td>\n",
       "      <td>0.1866</td>\n",
       "      <td>0.2416</td>\n",
       "      <td>0.1860</td>\n",
       "      <td>0.2750</td>\n",
       "      <td>0.08902</td>\n",
       "      <td>NaN</td>\n",
       "    </tr>\n",
       "    <tr>\n",
       "      <th>2</th>\n",
       "      <td>84300903</td>\n",
       "      <td>M</td>\n",
       "      <td>19.69</td>\n",
       "      <td>21.25</td>\n",
       "      <td>130.00</td>\n",
       "      <td>1203.0</td>\n",
       "      <td>0.10960</td>\n",
       "      <td>0.15990</td>\n",
       "      <td>0.1974</td>\n",
       "      <td>0.12790</td>\n",
       "      <td>...</td>\n",
       "      <td>25.53</td>\n",
       "      <td>152.50</td>\n",
       "      <td>1709.0</td>\n",
       "      <td>0.1444</td>\n",
       "      <td>0.4245</td>\n",
       "      <td>0.4504</td>\n",
       "      <td>0.2430</td>\n",
       "      <td>0.3613</td>\n",
       "      <td>0.08758</td>\n",
       "      <td>NaN</td>\n",
       "    </tr>\n",
       "    <tr>\n",
       "      <th>3</th>\n",
       "      <td>84348301</td>\n",
       "      <td>M</td>\n",
       "      <td>11.42</td>\n",
       "      <td>20.38</td>\n",
       "      <td>77.58</td>\n",
       "      <td>386.1</td>\n",
       "      <td>0.14250</td>\n",
       "      <td>0.28390</td>\n",
       "      <td>0.2414</td>\n",
       "      <td>0.10520</td>\n",
       "      <td>...</td>\n",
       "      <td>26.50</td>\n",
       "      <td>98.87</td>\n",
       "      <td>567.7</td>\n",
       "      <td>0.2098</td>\n",
       "      <td>0.8663</td>\n",
       "      <td>0.6869</td>\n",
       "      <td>0.2575</td>\n",
       "      <td>0.6638</td>\n",
       "      <td>0.17300</td>\n",
       "      <td>NaN</td>\n",
       "    </tr>\n",
       "    <tr>\n",
       "      <th>4</th>\n",
       "      <td>84358402</td>\n",
       "      <td>M</td>\n",
       "      <td>20.29</td>\n",
       "      <td>14.34</td>\n",
       "      <td>135.10</td>\n",
       "      <td>1297.0</td>\n",
       "      <td>0.10030</td>\n",
       "      <td>0.13280</td>\n",
       "      <td>0.1980</td>\n",
       "      <td>0.10430</td>\n",
       "      <td>...</td>\n",
       "      <td>16.67</td>\n",
       "      <td>152.20</td>\n",
       "      <td>1575.0</td>\n",
       "      <td>0.1374</td>\n",
       "      <td>0.2050</td>\n",
       "      <td>0.4000</td>\n",
       "      <td>0.1625</td>\n",
       "      <td>0.2364</td>\n",
       "      <td>0.07678</td>\n",
       "      <td>NaN</td>\n",
       "    </tr>\n",
       "  </tbody>\n",
       "</table>\n",
       "<p>5 rows × 33 columns</p>\n",
       "</div>"
      ],
      "text/plain": [
       "         id diagnosis  radius_mean  texture_mean  perimeter_mean  area_mean  \\\n",
       "0    842302         M        17.99         10.38          122.80     1001.0   \n",
       "1    842517         M        20.57         17.77          132.90     1326.0   \n",
       "2  84300903         M        19.69         21.25          130.00     1203.0   \n",
       "3  84348301         M        11.42         20.38           77.58      386.1   \n",
       "4  84358402         M        20.29         14.34          135.10     1297.0   \n",
       "\n",
       "   smoothness_mean  compactness_mean  concavity_mean  concave points_mean  \\\n",
       "0          0.11840           0.27760          0.3001              0.14710   \n",
       "1          0.08474           0.07864          0.0869              0.07017   \n",
       "2          0.10960           0.15990          0.1974              0.12790   \n",
       "3          0.14250           0.28390          0.2414              0.10520   \n",
       "4          0.10030           0.13280          0.1980              0.10430   \n",
       "\n",
       "   ...  texture_worst  perimeter_worst  area_worst  smoothness_worst  \\\n",
       "0  ...          17.33           184.60      2019.0            0.1622   \n",
       "1  ...          23.41           158.80      1956.0            0.1238   \n",
       "2  ...          25.53           152.50      1709.0            0.1444   \n",
       "3  ...          26.50            98.87       567.7            0.2098   \n",
       "4  ...          16.67           152.20      1575.0            0.1374   \n",
       "\n",
       "   compactness_worst  concavity_worst  concave points_worst  symmetry_worst  \\\n",
       "0             0.6656           0.7119                0.2654          0.4601   \n",
       "1             0.1866           0.2416                0.1860          0.2750   \n",
       "2             0.4245           0.4504                0.2430          0.3613   \n",
       "3             0.8663           0.6869                0.2575          0.6638   \n",
       "4             0.2050           0.4000                0.1625          0.2364   \n",
       "\n",
       "   fractal_dimension_worst  Unnamed: 32  \n",
       "0                  0.11890          NaN  \n",
       "1                  0.08902          NaN  \n",
       "2                  0.08758          NaN  \n",
       "3                  0.17300          NaN  \n",
       "4                  0.07678          NaN  \n",
       "\n",
       "[5 rows x 33 columns]"
      ]
     },
     "execution_count": 237,
     "metadata": {},
     "output_type": "execute_result"
    }
   ],
   "source": [
    "cancer=pd.read_csv('/home/natalia/Documentos/Jupyter Lab/breastcancer.csv')\n",
    "cancer.head()"
   ]
  },
  {
   "cell_type": "markdown",
   "metadata": {},
   "source": [
    "### Retiramos la última columna que contiene 'Nan'"
   ]
  },
  {
   "cell_type": "code",
   "execution_count": 238,
   "metadata": {},
   "outputs": [
    {
     "data": {
      "text/html": [
       "<div>\n",
       "<style scoped>\n",
       "    .dataframe tbody tr th:only-of-type {\n",
       "        vertical-align: middle;\n",
       "    }\n",
       "\n",
       "    .dataframe tbody tr th {\n",
       "        vertical-align: top;\n",
       "    }\n",
       "\n",
       "    .dataframe thead th {\n",
       "        text-align: right;\n",
       "    }\n",
       "</style>\n",
       "<table border=\"1\" class=\"dataframe\">\n",
       "  <thead>\n",
       "    <tr style=\"text-align: right;\">\n",
       "      <th></th>\n",
       "      <th>id</th>\n",
       "      <th>diagnosis</th>\n",
       "      <th>radius_mean</th>\n",
       "      <th>texture_mean</th>\n",
       "      <th>perimeter_mean</th>\n",
       "      <th>area_mean</th>\n",
       "      <th>smoothness_mean</th>\n",
       "      <th>compactness_mean</th>\n",
       "      <th>concavity_mean</th>\n",
       "      <th>concave points_mean</th>\n",
       "      <th>...</th>\n",
       "      <th>radius_worst</th>\n",
       "      <th>texture_worst</th>\n",
       "      <th>perimeter_worst</th>\n",
       "      <th>area_worst</th>\n",
       "      <th>smoothness_worst</th>\n",
       "      <th>compactness_worst</th>\n",
       "      <th>concavity_worst</th>\n",
       "      <th>concave points_worst</th>\n",
       "      <th>symmetry_worst</th>\n",
       "      <th>fractal_dimension_worst</th>\n",
       "    </tr>\n",
       "  </thead>\n",
       "  <tbody>\n",
       "    <tr>\n",
       "      <th>0</th>\n",
       "      <td>842302</td>\n",
       "      <td>M</td>\n",
       "      <td>17.99</td>\n",
       "      <td>10.38</td>\n",
       "      <td>122.80</td>\n",
       "      <td>1001.0</td>\n",
       "      <td>0.11840</td>\n",
       "      <td>0.27760</td>\n",
       "      <td>0.3001</td>\n",
       "      <td>0.14710</td>\n",
       "      <td>...</td>\n",
       "      <td>25.38</td>\n",
       "      <td>17.33</td>\n",
       "      <td>184.60</td>\n",
       "      <td>2019.0</td>\n",
       "      <td>0.1622</td>\n",
       "      <td>0.6656</td>\n",
       "      <td>0.7119</td>\n",
       "      <td>0.2654</td>\n",
       "      <td>0.4601</td>\n",
       "      <td>0.11890</td>\n",
       "    </tr>\n",
       "    <tr>\n",
       "      <th>1</th>\n",
       "      <td>842517</td>\n",
       "      <td>M</td>\n",
       "      <td>20.57</td>\n",
       "      <td>17.77</td>\n",
       "      <td>132.90</td>\n",
       "      <td>1326.0</td>\n",
       "      <td>0.08474</td>\n",
       "      <td>0.07864</td>\n",
       "      <td>0.0869</td>\n",
       "      <td>0.07017</td>\n",
       "      <td>...</td>\n",
       "      <td>24.99</td>\n",
       "      <td>23.41</td>\n",
       "      <td>158.80</td>\n",
       "      <td>1956.0</td>\n",
       "      <td>0.1238</td>\n",
       "      <td>0.1866</td>\n",
       "      <td>0.2416</td>\n",
       "      <td>0.1860</td>\n",
       "      <td>0.2750</td>\n",
       "      <td>0.08902</td>\n",
       "    </tr>\n",
       "    <tr>\n",
       "      <th>2</th>\n",
       "      <td>84300903</td>\n",
       "      <td>M</td>\n",
       "      <td>19.69</td>\n",
       "      <td>21.25</td>\n",
       "      <td>130.00</td>\n",
       "      <td>1203.0</td>\n",
       "      <td>0.10960</td>\n",
       "      <td>0.15990</td>\n",
       "      <td>0.1974</td>\n",
       "      <td>0.12790</td>\n",
       "      <td>...</td>\n",
       "      <td>23.57</td>\n",
       "      <td>25.53</td>\n",
       "      <td>152.50</td>\n",
       "      <td>1709.0</td>\n",
       "      <td>0.1444</td>\n",
       "      <td>0.4245</td>\n",
       "      <td>0.4504</td>\n",
       "      <td>0.2430</td>\n",
       "      <td>0.3613</td>\n",
       "      <td>0.08758</td>\n",
       "    </tr>\n",
       "    <tr>\n",
       "      <th>3</th>\n",
       "      <td>84348301</td>\n",
       "      <td>M</td>\n",
       "      <td>11.42</td>\n",
       "      <td>20.38</td>\n",
       "      <td>77.58</td>\n",
       "      <td>386.1</td>\n",
       "      <td>0.14250</td>\n",
       "      <td>0.28390</td>\n",
       "      <td>0.2414</td>\n",
       "      <td>0.10520</td>\n",
       "      <td>...</td>\n",
       "      <td>14.91</td>\n",
       "      <td>26.50</td>\n",
       "      <td>98.87</td>\n",
       "      <td>567.7</td>\n",
       "      <td>0.2098</td>\n",
       "      <td>0.8663</td>\n",
       "      <td>0.6869</td>\n",
       "      <td>0.2575</td>\n",
       "      <td>0.6638</td>\n",
       "      <td>0.17300</td>\n",
       "    </tr>\n",
       "    <tr>\n",
       "      <th>4</th>\n",
       "      <td>84358402</td>\n",
       "      <td>M</td>\n",
       "      <td>20.29</td>\n",
       "      <td>14.34</td>\n",
       "      <td>135.10</td>\n",
       "      <td>1297.0</td>\n",
       "      <td>0.10030</td>\n",
       "      <td>0.13280</td>\n",
       "      <td>0.1980</td>\n",
       "      <td>0.10430</td>\n",
       "      <td>...</td>\n",
       "      <td>22.54</td>\n",
       "      <td>16.67</td>\n",
       "      <td>152.20</td>\n",
       "      <td>1575.0</td>\n",
       "      <td>0.1374</td>\n",
       "      <td>0.2050</td>\n",
       "      <td>0.4000</td>\n",
       "      <td>0.1625</td>\n",
       "      <td>0.2364</td>\n",
       "      <td>0.07678</td>\n",
       "    </tr>\n",
       "  </tbody>\n",
       "</table>\n",
       "<p>5 rows × 32 columns</p>\n",
       "</div>"
      ],
      "text/plain": [
       "         id diagnosis  radius_mean  texture_mean  perimeter_mean  area_mean  \\\n",
       "0    842302         M        17.99         10.38          122.80     1001.0   \n",
       "1    842517         M        20.57         17.77          132.90     1326.0   \n",
       "2  84300903         M        19.69         21.25          130.00     1203.0   \n",
       "3  84348301         M        11.42         20.38           77.58      386.1   \n",
       "4  84358402         M        20.29         14.34          135.10     1297.0   \n",
       "\n",
       "   smoothness_mean  compactness_mean  concavity_mean  concave points_mean  \\\n",
       "0          0.11840           0.27760          0.3001              0.14710   \n",
       "1          0.08474           0.07864          0.0869              0.07017   \n",
       "2          0.10960           0.15990          0.1974              0.12790   \n",
       "3          0.14250           0.28390          0.2414              0.10520   \n",
       "4          0.10030           0.13280          0.1980              0.10430   \n",
       "\n",
       "   ...  radius_worst  texture_worst  perimeter_worst  area_worst  \\\n",
       "0  ...         25.38          17.33           184.60      2019.0   \n",
       "1  ...         24.99          23.41           158.80      1956.0   \n",
       "2  ...         23.57          25.53           152.50      1709.0   \n",
       "3  ...         14.91          26.50            98.87       567.7   \n",
       "4  ...         22.54          16.67           152.20      1575.0   \n",
       "\n",
       "   smoothness_worst  compactness_worst  concavity_worst  concave points_worst  \\\n",
       "0            0.1622             0.6656           0.7119                0.2654   \n",
       "1            0.1238             0.1866           0.2416                0.1860   \n",
       "2            0.1444             0.4245           0.4504                0.2430   \n",
       "3            0.2098             0.8663           0.6869                0.2575   \n",
       "4            0.1374             0.2050           0.4000                0.1625   \n",
       "\n",
       "   symmetry_worst  fractal_dimension_worst  \n",
       "0          0.4601                  0.11890  \n",
       "1          0.2750                  0.08902  \n",
       "2          0.3613                  0.08758  \n",
       "3          0.6638                  0.17300  \n",
       "4          0.2364                  0.07678  \n",
       "\n",
       "[5 rows x 32 columns]"
      ]
     },
     "execution_count": 238,
     "metadata": {},
     "output_type": "execute_result"
    }
   ],
   "source": [
    "del cancer['Unnamed: 32']\n",
    "cancer.head()"
   ]
  },
  {
   "cell_type": "markdown",
   "metadata": {},
   "source": [
    "### Realizaremos ahora un preprocesamiento de los datos, eligiendo a la variable **diagnosis** como dependiente."
   ]
  },
  {
   "cell_type": "code",
   "execution_count": 239,
   "metadata": {},
   "outputs": [
    {
     "name": "stdout",
     "output_type": "stream",
     "text": [
      "[[1.799e+01 1.038e+01 1.228e+02 ... 2.654e-01 4.601e-01 1.189e-01]\n",
      " [2.057e+01 1.777e+01 1.329e+02 ... 1.860e-01 2.750e-01 8.902e-02]\n",
      " [1.969e+01 2.125e+01 1.300e+02 ... 2.430e-01 3.613e-01 8.758e-02]\n",
      " ...\n",
      " [1.660e+01 2.808e+01 1.083e+02 ... 1.418e-01 2.218e-01 7.820e-02]\n",
      " [2.060e+01 2.933e+01 1.401e+02 ... 2.650e-01 4.087e-01 1.240e-01]\n",
      " [7.760e+00 2.454e+01 4.792e+01 ... 0.000e+00 2.871e-01 7.039e-02]]\n",
      "['M' 'M' 'M' 'M' 'M' 'M' 'M' 'M' 'M' 'M' 'M' 'M' 'M' 'M' 'M' 'M' 'M' 'M'\n",
      " 'M' 'B' 'B' 'B' 'M' 'M' 'M' 'M' 'M' 'M' 'M' 'M' 'M' 'M' 'M' 'M' 'M' 'M'\n",
      " 'M' 'B' 'M' 'M' 'M' 'M' 'M' 'M' 'M' 'M' 'B' 'M' 'B' 'B' 'B' 'B' 'B' 'M'\n",
      " 'M' 'B' 'M' 'M' 'B' 'B' 'B' 'B' 'M' 'B' 'M' 'M' 'B' 'B' 'B' 'B' 'M' 'B'\n",
      " 'M' 'M' 'B' 'M' 'B' 'M' 'M' 'B' 'B' 'B' 'M' 'M' 'B' 'M' 'M' 'M' 'B' 'B'\n",
      " 'B' 'M' 'B' 'B' 'M' 'M' 'B' 'B' 'B' 'M' 'M' 'B' 'B' 'B' 'B' 'M' 'B' 'B'\n",
      " 'M' 'B' 'B' 'B' 'B' 'B' 'B' 'B' 'B' 'M' 'M' 'M' 'B' 'M' 'M' 'B' 'B' 'B'\n",
      " 'M' 'M' 'B' 'M' 'B' 'M' 'M' 'B' 'M' 'M' 'B' 'B' 'M' 'B' 'B' 'M' 'B' 'B'\n",
      " 'B' 'B' 'M' 'B' 'B' 'B' 'B' 'B' 'B' 'B' 'B' 'B' 'M' 'B' 'B' 'B' 'B' 'M'\n",
      " 'M' 'B' 'M' 'B' 'B' 'M' 'M' 'B' 'B' 'M' 'M' 'B' 'B' 'B' 'B' 'M' 'B' 'B'\n",
      " 'M' 'M' 'M' 'B' 'M' 'B' 'M' 'B' 'B' 'B' 'M' 'B' 'B' 'M' 'M' 'B' 'M' 'M'\n",
      " 'M' 'M' 'B' 'M' 'M' 'M' 'B' 'M' 'B' 'M' 'B' 'B' 'M' 'B' 'M' 'M' 'M' 'M'\n",
      " 'B' 'B' 'M' 'M' 'B' 'B' 'B' 'M' 'B' 'B' 'B' 'B' 'B' 'M' 'M' 'B' 'B' 'M'\n",
      " 'B' 'B' 'M' 'M' 'B' 'M' 'B' 'B' 'B' 'B' 'M' 'B' 'B' 'B' 'B' 'B' 'M' 'B'\n",
      " 'M' 'M' 'M' 'M' 'M' 'M' 'M' 'M' 'M' 'M' 'M' 'M' 'M' 'M' 'B' 'B' 'B' 'B'\n",
      " 'B' 'B' 'M' 'B' 'M' 'B' 'B' 'M' 'B' 'B' 'M' 'B' 'M' 'M' 'B' 'B' 'B' 'B'\n",
      " 'B' 'B' 'B' 'B' 'B' 'B' 'B' 'B' 'B' 'M' 'B' 'B' 'M' 'B' 'M' 'B' 'B' 'B'\n",
      " 'B' 'B' 'B' 'B' 'B' 'B' 'B' 'B' 'B' 'B' 'B' 'M' 'B' 'B' 'B' 'M' 'B' 'M'\n",
      " 'B' 'B' 'B' 'B' 'M' 'M' 'M' 'B' 'B' 'B' 'B' 'M' 'B' 'M' 'B' 'M' 'B' 'B'\n",
      " 'B' 'M' 'B' 'B' 'B' 'B' 'B' 'B' 'B' 'M' 'M' 'M' 'B' 'B' 'B' 'B' 'B' 'B'\n",
      " 'B' 'B' 'B' 'B' 'B' 'M' 'M' 'B' 'M' 'M' 'M' 'B' 'M' 'M' 'B' 'B' 'B' 'B'\n",
      " 'B' 'M' 'B' 'B' 'B' 'B' 'B' 'M' 'B' 'B' 'B' 'M' 'B' 'B' 'M' 'M' 'B' 'B'\n",
      " 'B' 'B' 'B' 'B' 'M' 'B' 'B' 'B' 'B' 'B' 'B' 'B' 'M' 'B' 'B' 'B' 'B' 'B'\n",
      " 'M' 'B' 'B' 'M' 'B' 'B' 'B' 'B' 'B' 'B' 'B' 'B' 'B' 'B' 'B' 'B' 'M' 'B'\n",
      " 'M' 'M' 'B' 'M' 'B' 'B' 'B' 'B' 'B' 'M' 'B' 'B' 'M' 'B' 'M' 'B' 'B' 'M'\n",
      " 'B' 'M' 'B' 'B' 'B' 'B' 'B' 'B' 'B' 'B' 'M' 'M' 'B' 'B' 'B' 'B' 'B' 'B'\n",
      " 'M' 'B' 'B' 'B' 'B' 'B' 'B' 'B' 'B' 'B' 'B' 'M' 'B' 'B' 'B' 'B' 'B' 'B'\n",
      " 'B' 'M' 'B' 'M' 'B' 'B' 'M' 'B' 'B' 'B' 'B' 'B' 'M' 'M' 'B' 'M' 'B' 'M'\n",
      " 'B' 'B' 'B' 'B' 'B' 'M' 'B' 'B' 'M' 'B' 'M' 'B' 'M' 'M' 'B' 'B' 'B' 'M'\n",
      " 'B' 'B' 'B' 'B' 'B' 'B' 'B' 'B' 'B' 'B' 'B' 'M' 'B' 'M' 'M' 'B' 'B' 'B'\n",
      " 'B' 'B' 'B' 'B' 'B' 'B' 'B' 'B' 'B' 'B' 'B' 'B' 'B' 'B' 'B' 'B' 'B' 'B'\n",
      " 'B' 'B' 'B' 'B' 'M' 'M' 'M' 'M' 'M' 'M' 'B']\n"
     ]
    }
   ],
   "source": [
    "x = cancer.iloc[:,2:].values # extrae como tensores numpy\n",
    "y = cancer.iloc[:,1].values\n",
    "\n",
    "print(x)\n",
    "print(y)"
   ]
  },
  {
   "cell_type": "markdown",
   "metadata": {},
   "source": [
    "### Recodificamos ahora la variable **diagnosis**:"
   ]
  },
  {
   "cell_type": "code",
   "execution_count": 240,
   "metadata": {},
   "outputs": [
    {
     "name": "stdout",
     "output_type": "stream",
     "text": [
      "[1 1 1 1 1 1 1 1 1 1 1 1 1 1 1 1 1 1 1 0 0 0 1 1 1 1 1 1 1 1 1 1 1 1 1 1 1\n",
      " 0 1 1 1 1 1 1 1 1 0 1 0 0 0 0 0 1 1 0 1 1 0 0 0 0 1 0 1 1 0 0 0 0 1 0 1 1\n",
      " 0 1 0 1 1 0 0 0 1 1 0 1 1 1 0 0 0 1 0 0 1 1 0 0 0 1 1 0 0 0 0 1 0 0 1 0 0\n",
      " 0 0 0 0 0 0 1 1 1 0 1 1 0 0 0 1 1 0 1 0 1 1 0 1 1 0 0 1 0 0 1 0 0 0 0 1 0\n",
      " 0 0 0 0 0 0 0 0 1 0 0 0 0 1 1 0 1 0 0 1 1 0 0 1 1 0 0 0 0 1 0 0 1 1 1 0 1\n",
      " 0 1 0 0 0 1 0 0 1 1 0 1 1 1 1 0 1 1 1 0 1 0 1 0 0 1 0 1 1 1 1 0 0 1 1 0 0\n",
      " 0 1 0 0 0 0 0 1 1 0 0 1 0 0 1 1 0 1 0 0 0 0 1 0 0 0 0 0 1 0 1 1 1 1 1 1 1\n",
      " 1 1 1 1 1 1 1 0 0 0 0 0 0 1 0 1 0 0 1 0 0 1 0 1 1 0 0 0 0 0 0 0 0 0 0 0 0\n",
      " 0 1 0 0 1 0 1 0 0 0 0 0 0 0 0 0 0 0 0 0 0 1 0 0 0 1 0 1 0 0 0 0 1 1 1 0 0\n",
      " 0 0 1 0 1 0 1 0 0 0 1 0 0 0 0 0 0 0 1 1 1 0 0 0 0 0 0 0 0 0 0 0 1 1 0 1 1\n",
      " 1 0 1 1 0 0 0 0 0 1 0 0 0 0 0 1 0 0 0 1 0 0 1 1 0 0 0 0 0 0 1 0 0 0 0 0 0\n",
      " 0 1 0 0 0 0 0 1 0 0 1 0 0 0 0 0 0 0 0 0 0 0 0 1 0 1 1 0 1 0 0 0 0 0 1 0 0\n",
      " 1 0 1 0 0 1 0 1 0 0 0 0 0 0 0 0 1 1 0 0 0 0 0 0 1 0 0 0 0 0 0 0 0 0 0 1 0\n",
      " 0 0 0 0 0 0 1 0 1 0 0 1 0 0 0 0 0 1 1 0 1 0 1 0 0 0 0 0 1 0 0 1 0 1 0 1 1\n",
      " 0 0 0 1 0 0 0 0 0 0 0 0 0 0 0 1 0 1 1 0 0 0 0 0 0 0 0 0 0 0 0 0 0 0 0 0 0\n",
      " 0 0 0 0 0 0 0 1 1 1 1 1 1 0]\n"
     ]
    }
   ],
   "source": [
    "labelencoder_y = LabelEncoder()\n",
    "diagnosis = labelencoder_y.fit_transform(y)\n",
    "print(diagnosis)"
   ]
  },
  {
   "cell_type": "markdown",
   "metadata": {},
   "source": [
    "### Seleccionaremos nuestro conjunto de datos de entrenamiento y de prueba"
   ]
  },
  {
   "cell_type": "code",
   "execution_count": 241,
   "metadata": {},
   "outputs": [
    {
     "name": "stdout",
     "output_type": "stream",
     "text": [
      "(512, 30)\n",
      "(57, 30)\n"
     ]
    }
   ],
   "source": [
    "x_train, x_test, diag_train, diag_test = train_test_split(x, diagnosis, test_size = 0.1, random_state = 0)\n",
    "print(x_train.shape)\n",
    "print(x_test.shape)"
   ]
  },
  {
   "cell_type": "markdown",
   "metadata": {},
   "source": [
    "### A continuación estandarizamos las covariables:"
   ]
  },
  {
   "cell_type": "code",
   "execution_count": 242,
   "metadata": {},
   "outputs": [],
   "source": [
    "sc = StandardScaler()\n",
    "x_train = sc.fit_transform(x_train)\n",
    "x_test = sc.transform(x_test)"
   ]
  },
  {
   "cell_type": "markdown",
   "metadata": {},
   "source": [
    "### Generamos un modelo secuencial Modo 2"
   ]
  },
  {
   "cell_type": "code",
   "execution_count": 243,
   "metadata": {},
   "outputs": [],
   "source": [
    "clasificador = Sequential()\n",
    "clasificador.add(Dense(units=16, activation='relu', input_shape=(30,)))\n",
    "clasificador.add(Dropout(0.1))\n",
    "clasificador.add(Dense(units=16, activation='relu'))\n",
    "clasificador.add(Dropout(0.1))\n",
    "clasificador.add(Dense(units=1, activation='sigmoid'))\n"
   ]
  },
  {
   "cell_type": "markdown",
   "metadata": {},
   "source": [
    "### Entrenamos nuestros datos"
   ]
  },
  {
   "cell_type": "code",
   "execution_count": 244,
   "metadata": {},
   "outputs": [
    {
     "name": "stdout",
     "output_type": "stream",
     "text": [
      "Model: \"sequential_11\"\n",
      "_________________________________________________________________\n",
      "Layer (type)                 Output Shape              Param #   \n",
      "=================================================================\n",
      "dense_48 (Dense)             (None, 16)                496       \n",
      "_________________________________________________________________\n",
      "dropout_32 (Dropout)         (None, 16)                0         \n",
      "_________________________________________________________________\n",
      "dense_49 (Dense)             (None, 16)                272       \n",
      "_________________________________________________________________\n",
      "dropout_33 (Dropout)         (None, 16)                0         \n",
      "_________________________________________________________________\n",
      "dense_50 (Dense)             (None, 1)                 17        \n",
      "=================================================================\n",
      "Total params: 785\n",
      "Trainable params: 785\n",
      "Non-trainable params: 0\n",
      "_________________________________________________________________\n"
     ]
    }
   ],
   "source": [
    "# Usaremos el compilador \"ADAM\"\n",
    "clasificador.compile(optimizer='adam', loss='binary_crossentropy', metrics=['accuracy'])\n",
    "clasificador.summary()"
   ]
  },
  {
   "cell_type": "code",
   "execution_count": 245,
   "metadata": {},
   "outputs": [
    {
     "name": "stdout",
     "output_type": "stream",
     "text": [
      "Epoch 1/150\n",
      "13/13 [==============================] - 0s 18ms/step - loss: 0.7149 - accuracy: 0.5599 - val_loss: 0.6676 - val_accuracy: 0.6311\n",
      "Epoch 2/150\n",
      "13/13 [==============================] - 0s 8ms/step - loss: 0.6103 - accuracy: 0.7066 - val_loss: 0.5560 - val_accuracy: 0.7961\n",
      "Epoch 3/150\n",
      "13/13 [==============================] - 0s 6ms/step - loss: 0.5281 - accuracy: 0.7848 - val_loss: 0.4479 - val_accuracy: 0.8641\n",
      "Epoch 4/150\n",
      "13/13 [==============================] - 0s 8ms/step - loss: 0.4263 - accuracy: 0.8557 - val_loss: 0.3509 - val_accuracy: 0.9126\n",
      "Epoch 5/150\n",
      "13/13 [==============================] - 0s 5ms/step - loss: 0.3527 - accuracy: 0.9095 - val_loss: 0.2727 - val_accuracy: 0.9515\n",
      "Epoch 6/150\n",
      "13/13 [==============================] - 0s 6ms/step - loss: 0.2936 - accuracy: 0.9046 - val_loss: 0.2156 - val_accuracy: 0.9612\n",
      "Epoch 7/150\n",
      "13/13 [==============================] - 0s 6ms/step - loss: 0.2471 - accuracy: 0.9193 - val_loss: 0.1756 - val_accuracy: 0.9612\n",
      "Epoch 8/150\n",
      "13/13 [==============================] - 0s 19ms/step - loss: 0.2149 - accuracy: 0.9389 - val_loss: 0.1479 - val_accuracy: 0.9612\n",
      "Epoch 9/150\n",
      "13/13 [==============================] - 0s 8ms/step - loss: 0.1994 - accuracy: 0.9315 - val_loss: 0.1265 - val_accuracy: 0.9709\n",
      "Epoch 10/150\n",
      "13/13 [==============================] - 0s 5ms/step - loss: 0.1662 - accuracy: 0.9487 - val_loss: 0.1104 - val_accuracy: 0.9806\n",
      "Epoch 11/150\n",
      "13/13 [==============================] - 0s 7ms/step - loss: 0.1621 - accuracy: 0.9438 - val_loss: 0.0981 - val_accuracy: 0.9903\n",
      "Epoch 12/150\n",
      "13/13 [==============================] - 0s 7ms/step - loss: 0.1570 - accuracy: 0.9487 - val_loss: 0.0888 - val_accuracy: 1.0000\n",
      "Epoch 13/150\n",
      "13/13 [==============================] - 0s 6ms/step - loss: 0.1414 - accuracy: 0.9584 - val_loss: 0.0809 - val_accuracy: 1.0000\n",
      "Epoch 14/150\n",
      "13/13 [==============================] - 0s 6ms/step - loss: 0.1229 - accuracy: 0.9682 - val_loss: 0.0745 - val_accuracy: 1.0000\n",
      "Epoch 15/150\n",
      "13/13 [==============================] - 0s 8ms/step - loss: 0.1220 - accuracy: 0.9609 - val_loss: 0.0701 - val_accuracy: 1.0000\n",
      "Epoch 16/150\n",
      "13/13 [==============================] - 0s 8ms/step - loss: 0.1213 - accuracy: 0.9707 - val_loss: 0.0657 - val_accuracy: 0.9903\n",
      "Epoch 17/150\n",
      "13/13 [==============================] - 0s 7ms/step - loss: 0.1136 - accuracy: 0.9756 - val_loss: 0.0626 - val_accuracy: 0.9903\n",
      "Epoch 18/150\n",
      "13/13 [==============================] - 0s 6ms/step - loss: 0.1151 - accuracy: 0.9731 - val_loss: 0.0596 - val_accuracy: 0.9903\n",
      "Epoch 19/150\n",
      "13/13 [==============================] - 0s 8ms/step - loss: 0.1062 - accuracy: 0.9756 - val_loss: 0.0580 - val_accuracy: 0.9903\n",
      "Epoch 20/150\n",
      "13/13 [==============================] - 0s 8ms/step - loss: 0.0987 - accuracy: 0.9756 - val_loss: 0.0565 - val_accuracy: 0.9806\n",
      "Epoch 21/150\n",
      "13/13 [==============================] - 0s 6ms/step - loss: 0.0965 - accuracy: 0.9731 - val_loss: 0.0534 - val_accuracy: 0.9806\n",
      "Epoch 22/150\n",
      "13/13 [==============================] - 0s 8ms/step - loss: 0.0900 - accuracy: 0.9804 - val_loss: 0.0513 - val_accuracy: 0.9806\n",
      "Epoch 23/150\n",
      "13/13 [==============================] - 0s 7ms/step - loss: 0.0930 - accuracy: 0.9658 - val_loss: 0.0498 - val_accuracy: 0.9806\n",
      "Epoch 24/150\n",
      "13/13 [==============================] - 0s 8ms/step - loss: 0.0954 - accuracy: 0.9804 - val_loss: 0.0490 - val_accuracy: 0.9806\n",
      "Epoch 25/150\n",
      "13/13 [==============================] - 0s 9ms/step - loss: 0.0855 - accuracy: 0.9731 - val_loss: 0.0481 - val_accuracy: 0.9806\n",
      "Epoch 26/150\n",
      "13/13 [==============================] - 0s 7ms/step - loss: 0.0908 - accuracy: 0.9756 - val_loss: 0.0470 - val_accuracy: 0.9806\n",
      "Epoch 27/150\n",
      "13/13 [==============================] - 0s 8ms/step - loss: 0.0892 - accuracy: 0.9731 - val_loss: 0.0466 - val_accuracy: 0.9806\n",
      "Epoch 28/150\n",
      "13/13 [==============================] - 0s 8ms/step - loss: 0.0827 - accuracy: 0.9804 - val_loss: 0.0461 - val_accuracy: 0.9806\n",
      "Epoch 29/150\n",
      "13/13 [==============================] - 0s 8ms/step - loss: 0.0754 - accuracy: 0.9756 - val_loss: 0.0454 - val_accuracy: 0.9806\n",
      "Epoch 30/150\n",
      "13/13 [==============================] - 0s 6ms/step - loss: 0.0812 - accuracy: 0.9780 - val_loss: 0.0438 - val_accuracy: 0.9806\n",
      "Epoch 31/150\n",
      "13/13 [==============================] - 0s 8ms/step - loss: 0.0761 - accuracy: 0.9829 - val_loss: 0.0425 - val_accuracy: 0.9806\n",
      "Epoch 32/150\n",
      "13/13 [==============================] - 0s 7ms/step - loss: 0.0760 - accuracy: 0.9756 - val_loss: 0.0420 - val_accuracy: 0.9806\n",
      "Epoch 33/150\n",
      "13/13 [==============================] - 0s 6ms/step - loss: 0.0645 - accuracy: 0.9804 - val_loss: 0.0413 - val_accuracy: 0.9806\n",
      "Epoch 34/150\n",
      "13/13 [==============================] - 0s 8ms/step - loss: 0.0711 - accuracy: 0.9804 - val_loss: 0.0407 - val_accuracy: 0.9806\n",
      "Epoch 35/150\n",
      "13/13 [==============================] - 0s 6ms/step - loss: 0.0643 - accuracy: 0.9804 - val_loss: 0.0406 - val_accuracy: 0.9806\n",
      "Epoch 36/150\n",
      "13/13 [==============================] - 0s 7ms/step - loss: 0.0775 - accuracy: 0.9829 - val_loss: 0.0399 - val_accuracy: 0.9806\n",
      "Epoch 37/150\n",
      "13/13 [==============================] - 0s 5ms/step - loss: 0.0723 - accuracy: 0.9756 - val_loss: 0.0393 - val_accuracy: 0.9806\n",
      "Epoch 38/150\n",
      "13/13 [==============================] - 0s 6ms/step - loss: 0.0638 - accuracy: 0.9804 - val_loss: 0.0389 - val_accuracy: 0.9806\n",
      "Epoch 39/150\n",
      "13/13 [==============================] - 0s 6ms/step - loss: 0.0619 - accuracy: 0.9804 - val_loss: 0.0387 - val_accuracy: 0.9806\n",
      "Epoch 40/150\n",
      "13/13 [==============================] - 0s 6ms/step - loss: 0.0582 - accuracy: 0.9780 - val_loss: 0.0381 - val_accuracy: 0.9806\n",
      "Epoch 41/150\n",
      "13/13 [==============================] - 0s 8ms/step - loss: 0.0638 - accuracy: 0.9804 - val_loss: 0.0376 - val_accuracy: 0.9806\n",
      "Epoch 42/150\n",
      "13/13 [==============================] - 0s 7ms/step - loss: 0.0605 - accuracy: 0.9804 - val_loss: 0.0373 - val_accuracy: 0.9806\n",
      "Epoch 43/150\n",
      "13/13 [==============================] - 0s 8ms/step - loss: 0.0648 - accuracy: 0.9829 - val_loss: 0.0371 - val_accuracy: 0.9806\n",
      "Epoch 44/150\n",
      "13/13 [==============================] - 0s 7ms/step - loss: 0.0682 - accuracy: 0.9731 - val_loss: 0.0371 - val_accuracy: 0.9806\n",
      "Epoch 45/150\n",
      "13/13 [==============================] - 0s 7ms/step - loss: 0.0651 - accuracy: 0.9829 - val_loss: 0.0372 - val_accuracy: 0.9806\n",
      "Epoch 46/150\n",
      "13/13 [==============================] - 0s 9ms/step - loss: 0.0644 - accuracy: 0.9829 - val_loss: 0.0370 - val_accuracy: 0.9806\n",
      "Epoch 47/150\n",
      "13/13 [==============================] - 0s 8ms/step - loss: 0.0596 - accuracy: 0.9829 - val_loss: 0.0377 - val_accuracy: 0.9806\n",
      "Epoch 48/150\n",
      "13/13 [==============================] - 0s 6ms/step - loss: 0.0634 - accuracy: 0.9780 - val_loss: 0.0373 - val_accuracy: 0.9806\n",
      "Epoch 49/150\n",
      "13/13 [==============================] - 0s 6ms/step - loss: 0.0650 - accuracy: 0.9756 - val_loss: 0.0367 - val_accuracy: 0.9806\n",
      "Epoch 50/150\n",
      "13/13 [==============================] - 0s 7ms/step - loss: 0.0606 - accuracy: 0.9756 - val_loss: 0.0363 - val_accuracy: 0.9806\n",
      "Epoch 51/150\n",
      "13/13 [==============================] - 0s 8ms/step - loss: 0.0600 - accuracy: 0.9829 - val_loss: 0.0368 - val_accuracy: 0.9806\n",
      "Epoch 52/150\n",
      "13/13 [==============================] - 0s 8ms/step - loss: 0.0600 - accuracy: 0.9780 - val_loss: 0.0366 - val_accuracy: 0.9806\n",
      "Epoch 53/150\n",
      "13/13 [==============================] - 0s 8ms/step - loss: 0.0510 - accuracy: 0.9804 - val_loss: 0.0359 - val_accuracy: 0.9806\n",
      "Epoch 54/150\n",
      "13/13 [==============================] - 0s 7ms/step - loss: 0.0533 - accuracy: 0.9829 - val_loss: 0.0358 - val_accuracy: 0.9806\n",
      "Epoch 55/150\n",
      "13/13 [==============================] - 0s 10ms/step - loss: 0.0511 - accuracy: 0.9780 - val_loss: 0.0342 - val_accuracy: 0.9806\n",
      "Epoch 56/150\n",
      "13/13 [==============================] - 0s 7ms/step - loss: 0.0475 - accuracy: 0.9853 - val_loss: 0.0332 - val_accuracy: 0.9806\n",
      "Epoch 57/150\n",
      "13/13 [==============================] - 0s 7ms/step - loss: 0.0517 - accuracy: 0.9829 - val_loss: 0.0330 - val_accuracy: 0.9806\n",
      "Epoch 58/150\n",
      "13/13 [==============================] - 0s 6ms/step - loss: 0.0443 - accuracy: 0.9878 - val_loss: 0.0329 - val_accuracy: 0.9806\n",
      "Epoch 59/150\n",
      "13/13 [==============================] - 0s 8ms/step - loss: 0.0487 - accuracy: 0.9829 - val_loss: 0.0330 - val_accuracy: 0.9806\n",
      "Epoch 60/150\n",
      "13/13 [==============================] - 0s 8ms/step - loss: 0.0497 - accuracy: 0.9804 - val_loss: 0.0332 - val_accuracy: 0.9806\n",
      "Epoch 61/150\n",
      "13/13 [==============================] - 0s 6ms/step - loss: 0.0503 - accuracy: 0.9756 - val_loss: 0.0350 - val_accuracy: 0.9806\n",
      "Epoch 62/150\n",
      "13/13 [==============================] - 0s 7ms/step - loss: 0.0449 - accuracy: 0.9853 - val_loss: 0.0369 - val_accuracy: 0.9806\n",
      "Epoch 63/150\n",
      "13/13 [==============================] - 0s 6ms/step - loss: 0.0507 - accuracy: 0.9829 - val_loss: 0.0364 - val_accuracy: 0.9806\n",
      "Epoch 64/150\n",
      "13/13 [==============================] - 0s 6ms/step - loss: 0.0382 - accuracy: 0.9878 - val_loss: 0.0343 - val_accuracy: 0.9806\n",
      "Epoch 65/150\n",
      "13/13 [==============================] - 0s 7ms/step - loss: 0.0472 - accuracy: 0.9878 - val_loss: 0.0340 - val_accuracy: 0.9806\n",
      "Epoch 66/150\n",
      "13/13 [==============================] - 0s 6ms/step - loss: 0.0446 - accuracy: 0.9780 - val_loss: 0.0344 - val_accuracy: 0.9806\n",
      "Epoch 67/150\n",
      "13/13 [==============================] - 0s 7ms/step - loss: 0.0519 - accuracy: 0.9804 - val_loss: 0.0353 - val_accuracy: 0.9806\n",
      "Epoch 68/150\n",
      "13/13 [==============================] - 0s 6ms/step - loss: 0.0411 - accuracy: 0.9878 - val_loss: 0.0355 - val_accuracy: 0.9806\n",
      "Epoch 69/150\n",
      "13/13 [==============================] - 0s 8ms/step - loss: 0.0371 - accuracy: 0.9902 - val_loss: 0.0352 - val_accuracy: 0.9806\n",
      "Epoch 70/150\n",
      "13/13 [==============================] - 0s 6ms/step - loss: 0.0459 - accuracy: 0.9878 - val_loss: 0.0358 - val_accuracy: 0.9806\n",
      "Epoch 71/150\n",
      "13/13 [==============================] - 0s 6ms/step - loss: 0.0379 - accuracy: 0.9902 - val_loss: 0.0356 - val_accuracy: 0.9806\n",
      "Epoch 72/150\n",
      "13/13 [==============================] - 0s 8ms/step - loss: 0.0429 - accuracy: 0.9878 - val_loss: 0.0336 - val_accuracy: 0.9806\n",
      "Epoch 73/150\n",
      "13/13 [==============================] - 0s 8ms/step - loss: 0.0331 - accuracy: 0.9902 - val_loss: 0.0325 - val_accuracy: 0.9806\n",
      "Epoch 74/150\n",
      "13/13 [==============================] - 0s 7ms/step - loss: 0.0396 - accuracy: 0.9853 - val_loss: 0.0331 - val_accuracy: 0.9806\n",
      "Epoch 75/150\n",
      "13/13 [==============================] - 0s 7ms/step - loss: 0.0373 - accuracy: 0.9878 - val_loss: 0.0330 - val_accuracy: 0.9806\n",
      "Epoch 76/150\n",
      "13/13 [==============================] - 0s 8ms/step - loss: 0.0338 - accuracy: 0.9902 - val_loss: 0.0319 - val_accuracy: 0.9806\n",
      "Epoch 77/150\n",
      "13/13 [==============================] - 0s 7ms/step - loss: 0.0338 - accuracy: 0.9927 - val_loss: 0.0315 - val_accuracy: 0.9806\n",
      "Epoch 78/150\n",
      "13/13 [==============================] - 0s 7ms/step - loss: 0.0397 - accuracy: 0.9902 - val_loss: 0.0334 - val_accuracy: 0.9806\n",
      "Epoch 79/150\n",
      "13/13 [==============================] - 0s 7ms/step - loss: 0.0558 - accuracy: 0.9853 - val_loss: 0.0351 - val_accuracy: 0.9806\n",
      "Epoch 80/150\n",
      "13/13 [==============================] - 0s 7ms/step - loss: 0.0450 - accuracy: 0.9829 - val_loss: 0.0320 - val_accuracy: 0.9806\n",
      "Epoch 81/150\n",
      "13/13 [==============================] - 0s 6ms/step - loss: 0.0370 - accuracy: 0.9878 - val_loss: 0.0334 - val_accuracy: 0.9806\n",
      "Epoch 82/150\n",
      "13/13 [==============================] - 0s 8ms/step - loss: 0.0483 - accuracy: 0.9804 - val_loss: 0.0338 - val_accuracy: 0.9806\n",
      "Epoch 83/150\n",
      "13/13 [==============================] - 0s 7ms/step - loss: 0.0331 - accuracy: 0.9927 - val_loss: 0.0349 - val_accuracy: 0.9806\n",
      "Epoch 84/150\n",
      "13/13 [==============================] - 0s 6ms/step - loss: 0.0404 - accuracy: 0.9878 - val_loss: 0.0336 - val_accuracy: 0.9806\n",
      "Epoch 85/150\n",
      "13/13 [==============================] - 0s 6ms/step - loss: 0.0303 - accuracy: 0.9878 - val_loss: 0.0328 - val_accuracy: 0.9806\n",
      "Epoch 86/150\n",
      "13/13 [==============================] - 0s 7ms/step - loss: 0.0246 - accuracy: 0.9927 - val_loss: 0.0316 - val_accuracy: 0.9806\n",
      "Epoch 87/150\n",
      "13/13 [==============================] - 0s 7ms/step - loss: 0.0330 - accuracy: 0.9927 - val_loss: 0.0312 - val_accuracy: 0.9806\n",
      "Epoch 88/150\n",
      "13/13 [==============================] - 0s 8ms/step - loss: 0.0225 - accuracy: 0.9951 - val_loss: 0.0325 - val_accuracy: 0.9806\n",
      "Epoch 89/150\n",
      "13/13 [==============================] - 0s 8ms/step - loss: 0.0280 - accuracy: 0.9902 - val_loss: 0.0329 - val_accuracy: 0.9806\n",
      "Epoch 90/150\n",
      "13/13 [==============================] - 0s 8ms/step - loss: 0.0308 - accuracy: 0.9927 - val_loss: 0.0321 - val_accuracy: 0.9806\n",
      "Epoch 91/150\n",
      "13/13 [==============================] - 0s 6ms/step - loss: 0.0361 - accuracy: 0.9878 - val_loss: 0.0314 - val_accuracy: 0.9806\n",
      "Epoch 92/150\n",
      "13/13 [==============================] - 0s 6ms/step - loss: 0.0259 - accuracy: 0.9902 - val_loss: 0.0320 - val_accuracy: 0.9806\n",
      "Epoch 93/150\n",
      "13/13 [==============================] - 0s 6ms/step - loss: 0.0255 - accuracy: 0.9927 - val_loss: 0.0339 - val_accuracy: 0.9806\n",
      "Epoch 94/150\n",
      "13/13 [==============================] - 0s 8ms/step - loss: 0.0221 - accuracy: 0.9951 - val_loss: 0.0336 - val_accuracy: 0.9806\n",
      "Epoch 95/150\n",
      "13/13 [==============================] - 0s 6ms/step - loss: 0.0432 - accuracy: 0.9927 - val_loss: 0.0322 - val_accuracy: 0.9806\n",
      "Epoch 96/150\n",
      "13/13 [==============================] - 0s 8ms/step - loss: 0.0281 - accuracy: 0.9902 - val_loss: 0.0342 - val_accuracy: 0.9806\n",
      "Epoch 97/150\n",
      "13/13 [==============================] - 0s 8ms/step - loss: 0.0234 - accuracy: 0.9902 - val_loss: 0.0355 - val_accuracy: 0.9806\n",
      "Epoch 98/150\n",
      "13/13 [==============================] - 0s 7ms/step - loss: 0.0284 - accuracy: 0.9927 - val_loss: 0.0358 - val_accuracy: 0.9806\n",
      "Epoch 99/150\n",
      "13/13 [==============================] - 0s 6ms/step - loss: 0.0292 - accuracy: 0.9902 - val_loss: 0.0395 - val_accuracy: 0.9806\n",
      "Epoch 100/150\n",
      "13/13 [==============================] - 0s 6ms/step - loss: 0.0262 - accuracy: 0.9878 - val_loss: 0.0388 - val_accuracy: 0.9806\n",
      "Epoch 101/150\n",
      "13/13 [==============================] - 0s 8ms/step - loss: 0.0495 - accuracy: 0.9878 - val_loss: 0.0345 - val_accuracy: 0.9806\n",
      "Epoch 102/150\n",
      "13/13 [==============================] - 0s 8ms/step - loss: 0.0345 - accuracy: 0.9902 - val_loss: 0.0324 - val_accuracy: 0.9806\n",
      "Epoch 103/150\n",
      "13/13 [==============================] - 0s 7ms/step - loss: 0.0216 - accuracy: 0.9976 - val_loss: 0.0304 - val_accuracy: 0.9806\n",
      "Epoch 104/150\n",
      "13/13 [==============================] - 0s 6ms/step - loss: 0.0307 - accuracy: 0.9853 - val_loss: 0.0301 - val_accuracy: 0.9806\n",
      "Epoch 105/150\n",
      "13/13 [==============================] - 0s 9ms/step - loss: 0.0275 - accuracy: 0.9853 - val_loss: 0.0308 - val_accuracy: 0.9806\n",
      "Epoch 106/150\n",
      "13/13 [==============================] - 0s 6ms/step - loss: 0.0183 - accuracy: 0.9927 - val_loss: 0.0298 - val_accuracy: 0.9806\n",
      "Epoch 107/150\n",
      "13/13 [==============================] - 0s 6ms/step - loss: 0.0252 - accuracy: 0.9927 - val_loss: 0.0292 - val_accuracy: 0.9806\n",
      "Epoch 108/150\n",
      "13/13 [==============================] - 0s 6ms/step - loss: 0.0296 - accuracy: 0.9853 - val_loss: 0.0279 - val_accuracy: 0.9806\n",
      "Epoch 109/150\n",
      "13/13 [==============================] - 0s 9ms/step - loss: 0.0257 - accuracy: 0.9853 - val_loss: 0.0294 - val_accuracy: 0.9806\n",
      "Epoch 110/150\n",
      "13/13 [==============================] - 0s 6ms/step - loss: 0.0223 - accuracy: 0.9927 - val_loss: 0.0317 - val_accuracy: 0.9806\n",
      "Epoch 111/150\n",
      "13/13 [==============================] - 0s 8ms/step - loss: 0.0317 - accuracy: 0.9853 - val_loss: 0.0311 - val_accuracy: 0.9806\n",
      "Epoch 112/150\n",
      "13/13 [==============================] - 0s 8ms/step - loss: 0.0266 - accuracy: 0.9878 - val_loss: 0.0295 - val_accuracy: 0.9806\n",
      "Epoch 113/150\n",
      "13/13 [==============================] - 0s 9ms/step - loss: 0.0354 - accuracy: 0.9878 - val_loss: 0.0296 - val_accuracy: 0.9806\n",
      "Epoch 114/150\n",
      "13/13 [==============================] - 0s 9ms/step - loss: 0.0192 - accuracy: 0.9951 - val_loss: 0.0320 - val_accuracy: 0.9806\n",
      "Epoch 115/150\n",
      "13/13 [==============================] - 0s 7ms/step - loss: 0.0208 - accuracy: 0.9902 - val_loss: 0.0330 - val_accuracy: 0.9806\n",
      "Epoch 116/150\n",
      "13/13 [==============================] - 0s 7ms/step - loss: 0.0289 - accuracy: 0.9902 - val_loss: 0.0352 - val_accuracy: 0.9806\n",
      "Epoch 117/150\n",
      "13/13 [==============================] - 0s 7ms/step - loss: 0.0228 - accuracy: 0.9951 - val_loss: 0.0348 - val_accuracy: 0.9806\n",
      "Epoch 118/150\n",
      "13/13 [==============================] - 0s 8ms/step - loss: 0.0164 - accuracy: 0.9976 - val_loss: 0.0331 - val_accuracy: 0.9806\n",
      "Epoch 119/150\n",
      "13/13 [==============================] - 0s 6ms/step - loss: 0.0220 - accuracy: 0.9951 - val_loss: 0.0319 - val_accuracy: 0.9806\n",
      "Epoch 120/150\n",
      "13/13 [==============================] - 0s 8ms/step - loss: 0.0208 - accuracy: 0.9927 - val_loss: 0.0316 - val_accuracy: 0.9806\n",
      "Epoch 121/150\n",
      "13/13 [==============================] - 0s 7ms/step - loss: 0.0172 - accuracy: 0.9976 - val_loss: 0.0309 - val_accuracy: 0.9806\n",
      "Epoch 122/150\n",
      "13/13 [==============================] - 0s 7ms/step - loss: 0.0119 - accuracy: 0.9927 - val_loss: 0.0295 - val_accuracy: 0.9806\n",
      "Epoch 123/150\n",
      "13/13 [==============================] - 0s 8ms/step - loss: 0.0188 - accuracy: 0.9927 - val_loss: 0.0269 - val_accuracy: 0.9806\n",
      "Epoch 124/150\n",
      "13/13 [==============================] - 0s 7ms/step - loss: 0.0190 - accuracy: 0.9976 - val_loss: 0.0252 - val_accuracy: 0.9806\n",
      "Epoch 125/150\n",
      "13/13 [==============================] - 0s 6ms/step - loss: 0.0216 - accuracy: 0.9951 - val_loss: 0.0267 - val_accuracy: 0.9806\n",
      "Epoch 126/150\n",
      "13/13 [==============================] - 0s 7ms/step - loss: 0.0177 - accuracy: 0.9951 - val_loss: 0.0271 - val_accuracy: 0.9806\n",
      "Epoch 127/150\n",
      "13/13 [==============================] - 0s 7ms/step - loss: 0.0162 - accuracy: 0.9951 - val_loss: 0.0278 - val_accuracy: 0.9806\n",
      "Epoch 128/150\n",
      "13/13 [==============================] - 0s 7ms/step - loss: 0.0142 - accuracy: 0.9976 - val_loss: 0.0267 - val_accuracy: 0.9806\n",
      "Epoch 129/150\n",
      "13/13 [==============================] - 0s 7ms/step - loss: 0.0263 - accuracy: 0.9927 - val_loss: 0.0234 - val_accuracy: 0.9903\n",
      "Epoch 130/150\n",
      "13/13 [==============================] - 0s 8ms/step - loss: 0.0169 - accuracy: 0.9951 - val_loss: 0.0228 - val_accuracy: 0.9903\n",
      "Epoch 131/150\n",
      "13/13 [==============================] - 0s 6ms/step - loss: 0.0185 - accuracy: 0.9927 - val_loss: 0.0239 - val_accuracy: 0.9903\n",
      "Epoch 132/150\n",
      "13/13 [==============================] - 0s 6ms/step - loss: 0.0155 - accuracy: 0.9951 - val_loss: 0.0243 - val_accuracy: 0.9806\n",
      "Epoch 133/150\n",
      "13/13 [==============================] - 0s 6ms/step - loss: 0.0157 - accuracy: 0.9951 - val_loss: 0.0245 - val_accuracy: 0.9806\n",
      "Epoch 134/150\n",
      "13/13 [==============================] - 0s 7ms/step - loss: 0.0189 - accuracy: 0.9951 - val_loss: 0.0244 - val_accuracy: 0.9806\n",
      "Epoch 135/150\n",
      "13/13 [==============================] - 0s 7ms/step - loss: 0.0226 - accuracy: 0.9853 - val_loss: 0.0253 - val_accuracy: 0.9806\n",
      "Epoch 136/150\n",
      "13/13 [==============================] - 0s 8ms/step - loss: 0.0172 - accuracy: 0.9951 - val_loss: 0.0261 - val_accuracy: 0.9806\n",
      "Epoch 137/150\n",
      "13/13 [==============================] - 0s 7ms/step - loss: 0.0134 - accuracy: 0.9976 - val_loss: 0.0268 - val_accuracy: 0.9806\n",
      "Epoch 138/150\n",
      "13/13 [==============================] - 0s 8ms/step - loss: 0.0126 - accuracy: 0.9976 - val_loss: 0.0266 - val_accuracy: 0.9806\n",
      "Epoch 139/150\n",
      "13/13 [==============================] - 0s 7ms/step - loss: 0.0087 - accuracy: 1.0000 - val_loss: 0.0251 - val_accuracy: 0.9806\n",
      "Epoch 140/150\n",
      "13/13 [==============================] - 0s 7ms/step - loss: 0.0115 - accuracy: 0.9976 - val_loss: 0.0249 - val_accuracy: 0.9806\n",
      "Epoch 141/150\n",
      "13/13 [==============================] - 0s 7ms/step - loss: 0.0157 - accuracy: 0.9951 - val_loss: 0.0241 - val_accuracy: 0.9806\n",
      "Epoch 142/150\n",
      "13/13 [==============================] - 0s 6ms/step - loss: 0.0148 - accuracy: 0.9951 - val_loss: 0.0248 - val_accuracy: 0.9806\n",
      "Epoch 143/150\n",
      "13/13 [==============================] - 0s 8ms/step - loss: 0.0227 - accuracy: 0.9927 - val_loss: 0.0270 - val_accuracy: 0.9806\n",
      "Epoch 144/150\n",
      "13/13 [==============================] - 0s 6ms/step - loss: 0.0158 - accuracy: 0.9951 - val_loss: 0.0268 - val_accuracy: 0.9806\n",
      "Epoch 145/150\n",
      "13/13 [==============================] - 0s 7ms/step - loss: 0.0122 - accuracy: 0.9976 - val_loss: 0.0277 - val_accuracy: 0.9806\n",
      "Epoch 146/150\n",
      "13/13 [==============================] - 0s 7ms/step - loss: 0.0680 - accuracy: 0.9902 - val_loss: 0.0379 - val_accuracy: 0.9806\n",
      "Epoch 147/150\n",
      "13/13 [==============================] - 0s 6ms/step - loss: 0.0270 - accuracy: 0.9902 - val_loss: 0.0404 - val_accuracy: 0.9806\n",
      "Epoch 148/150\n",
      "13/13 [==============================] - 0s 7ms/step - loss: 0.0139 - accuracy: 0.9951 - val_loss: 0.0310 - val_accuracy: 0.9806\n",
      "Epoch 149/150\n",
      "13/13 [==============================] - 0s 9ms/step - loss: 0.0154 - accuracy: 0.9951 - val_loss: 0.0285 - val_accuracy: 0.9806\n",
      "Epoch 150/150\n",
      "13/13 [==============================] - 0s 7ms/step - loss: 0.0108 - accuracy: 1.0000 - val_loss: 0.0275 - val_accuracy: 0.9806\n"
     ]
    }
   ],
   "source": [
    "historico = clasificador.fit(x_train, diag_train, batch_size=32, epochs=150,validation_split = 0.2)"
   ]
  },
  {
   "cell_type": "markdown",
   "metadata": {},
   "source": [
    "### Realizamos las predicciones correspondientes:"
   ]
  },
  {
   "cell_type": "code",
   "execution_count": 246,
   "metadata": {},
   "outputs": [
    {
     "data": {
      "text/plain": [
       "(57, 1)"
      ]
     },
     "execution_count": 246,
     "metadata": {},
     "output_type": "execute_result"
    }
   ],
   "source": [
    "diag_pred = clasificador.predict(x_test)\n",
    "diag_pred[diag_pred > 0.5] = 1\n",
    "diag_pred[diag_pred <=0.5] = 0\n",
    "diag_pred.shape"
   ]
  },
  {
   "cell_type": "markdown",
   "metadata": {},
   "source": [
    "### Obtenemos la matriz de confusión:"
   ]
  },
  {
   "cell_type": "code",
   "execution_count": 247,
   "metadata": {},
   "outputs": [
    {
     "name": "stdout",
     "output_type": "stream",
     "text": [
      "Nuestro porcentaje de precisión es 98.24561403508771%\n"
     ]
    }
   ],
   "source": [
    "cm = confusion_matrix(diag_test, diag_pred)\n",
    "print(\"Nuestro porcentaje de precisión es {}%\".format(((cm[0][0] + cm[1][1])/diag_test.shape[0])*100))"
   ]
  },
  {
   "cell_type": "code",
   "execution_count": 248,
   "metadata": {},
   "outputs": [
    {
     "data": {
      "image/png": "[encoded data removed]",
      "text/plain": [
       "<Figure size 432x288 with 2 Axes>"
      ]
     },
     "metadata": {
      "needs_background": "light"
     },
     "output_type": "display_data"
    }
   ],
   "source": [
    "sb.heatmap(cm,annot=True,cmap=\"Blues\")\n",
    "plt.savefig('mc.png')"
   ]
  },
  {
   "cell_type": "markdown",
   "metadata": {},
   "source": [
    "### Finalmente evaluaremos nuestro modelo:"
   ]
  },
  {
   "cell_type": "code",
   "execution_count": 249,
   "metadata": {},
   "outputs": [],
   "source": [
    "def plot_metric(historico, metric):\n",
    "    train_metrics = historico.history[metric]\n",
    "    val_metrics = historico.history['val_'+metric]\n",
    "    epochs = range(1, len(train_metrics) + 1)\n",
    "    plt.plot(epochs, train_metrics, 'bo--')\n",
    "    plt.plot(epochs, val_metrics, 'ro-')\n",
    "    plt.title('Entrenamiento y Validación '+ metric)\n",
    "    plt.xlabel(\"Epochs\")\n",
    "    plt.ylabel(metric)\n",
    "    plt.legend([\"train_\"+metric, 'val_'+metric])\n",
    "    plt.show()\n",
    "  "
   ]
  },
  {
   "cell_type": "code",
   "execution_count": 250,
   "metadata": {},
   "outputs": [
    {
     "data": {
      "image/png": "[encoded data removed]",
      "text/plain": [
       "<Figure size 432x288 with 1 Axes>"
      ]
     },
     "metadata": {
      "needs_background": "light"
     },
     "output_type": "display_data"
    },
    {
     "data": {
      "text/plain": [
       "<Figure size 432x288 with 0 Axes>"
      ]
     },
     "metadata": {},
     "output_type": "display_data"
    }
   ],
   "source": [
    "plot_metric(historico, 'loss')\n",
    "plt.savefig('loss.png')"
   ]
  },
  {
   "cell_type": "code",
   "execution_count": 251,
   "metadata": {},
   "outputs": [
    {
     "data": {
      "image/png": "[encoded data removed]",
      "text/plain": [
       "<Figure size 432x288 with 1 Axes>"
      ]
     },
     "metadata": {
      "needs_background": "light"
     },
     "output_type": "display_data"
    },
    {
     "data": {
      "text/plain": [
       "<Figure size 432x288 with 0 Axes>"
      ]
     },
     "metadata": {},
     "output_type": "display_data"
    }
   ],
   "source": [
    "plot_metric(historico, 'accuracy')\n",
    "plt.savefig('accuracy.png')"
   ]
  },
  {
   "cell_type": "markdown",
   "metadata": {},
   "source": [
    "### **Punto 2: Boston Housing**\n",
    "\n",
    "### Construya una red neuronal de regresión para predecir el precio de las viviendas. Use los datos Boston Housing. "
   ]
  },
  {
   "cell_type": "markdown",
   "metadata": {},
   "source": [
    "### Cargaremos la base de datos correspondiente"
   ]
  },
  {
   "cell_type": "code",
   "execution_count": 252,
   "metadata": {},
   "outputs": [
    {
     "data": {
      "text/html": [
       "<div>\n",
       "<style scoped>\n",
       "    .dataframe tbody tr th:only-of-type {\n",
       "        vertical-align: middle;\n",
       "    }\n",
       "\n",
       "    .dataframe tbody tr th {\n",
       "        vertical-align: top;\n",
       "    }\n",
       "\n",
       "    .dataframe thead th {\n",
       "        text-align: right;\n",
       "    }\n",
       "</style>\n",
       "<table border=\"1\" class=\"dataframe\">\n",
       "  <thead>\n",
       "    <tr style=\"text-align: right;\">\n",
       "      <th></th>\n",
       "      <th>CRIM</th>\n",
       "      <th>ZN</th>\n",
       "      <th>INDUS</th>\n",
       "      <th>CHAS</th>\n",
       "      <th>NOX</th>\n",
       "      <th>RM</th>\n",
       "      <th>AGE</th>\n",
       "      <th>DIS</th>\n",
       "      <th>RAD</th>\n",
       "      <th>TAX</th>\n",
       "      <th>PTRATIO</th>\n",
       "      <th>B</th>\n",
       "      <th>LSTAT</th>\n",
       "      <th>target</th>\n",
       "    </tr>\n",
       "  </thead>\n",
       "  <tbody>\n",
       "    <tr>\n",
       "      <th>0</th>\n",
       "      <td>0.00632</td>\n",
       "      <td>18.0</td>\n",
       "      <td>2.31</td>\n",
       "      <td>0.0</td>\n",
       "      <td>0.538</td>\n",
       "      <td>6.575</td>\n",
       "      <td>65.2</td>\n",
       "      <td>4.0900</td>\n",
       "      <td>1.0</td>\n",
       "      <td>296.0</td>\n",
       "      <td>15.3</td>\n",
       "      <td>396.90</td>\n",
       "      <td>4.98</td>\n",
       "      <td>24.0</td>\n",
       "    </tr>\n",
       "    <tr>\n",
       "      <th>1</th>\n",
       "      <td>0.02731</td>\n",
       "      <td>0.0</td>\n",
       "      <td>7.07</td>\n",
       "      <td>0.0</td>\n",
       "      <td>0.469</td>\n",
       "      <td>6.421</td>\n",
       "      <td>78.9</td>\n",
       "      <td>4.9671</td>\n",
       "      <td>2.0</td>\n",
       "      <td>242.0</td>\n",
       "      <td>17.8</td>\n",
       "      <td>396.90</td>\n",
       "      <td>9.14</td>\n",
       "      <td>21.6</td>\n",
       "    </tr>\n",
       "    <tr>\n",
       "      <th>2</th>\n",
       "      <td>0.02729</td>\n",
       "      <td>0.0</td>\n",
       "      <td>7.07</td>\n",
       "      <td>0.0</td>\n",
       "      <td>0.469</td>\n",
       "      <td>7.185</td>\n",
       "      <td>61.1</td>\n",
       "      <td>4.9671</td>\n",
       "      <td>2.0</td>\n",
       "      <td>242.0</td>\n",
       "      <td>17.8</td>\n",
       "      <td>392.83</td>\n",
       "      <td>4.03</td>\n",
       "      <td>34.7</td>\n",
       "    </tr>\n",
       "    <tr>\n",
       "      <th>3</th>\n",
       "      <td>0.03237</td>\n",
       "      <td>0.0</td>\n",
       "      <td>2.18</td>\n",
       "      <td>0.0</td>\n",
       "      <td>0.458</td>\n",
       "      <td>6.998</td>\n",
       "      <td>45.8</td>\n",
       "      <td>6.0622</td>\n",
       "      <td>3.0</td>\n",
       "      <td>222.0</td>\n",
       "      <td>18.7</td>\n",
       "      <td>394.63</td>\n",
       "      <td>2.94</td>\n",
       "      <td>33.4</td>\n",
       "    </tr>\n",
       "    <tr>\n",
       "      <th>4</th>\n",
       "      <td>0.06905</td>\n",
       "      <td>0.0</td>\n",
       "      <td>2.18</td>\n",
       "      <td>0.0</td>\n",
       "      <td>0.458</td>\n",
       "      <td>7.147</td>\n",
       "      <td>54.2</td>\n",
       "      <td>6.0622</td>\n",
       "      <td>3.0</td>\n",
       "      <td>222.0</td>\n",
       "      <td>18.7</td>\n",
       "      <td>396.90</td>\n",
       "      <td>5.33</td>\n",
       "      <td>36.2</td>\n",
       "    </tr>\n",
       "  </tbody>\n",
       "</table>\n",
       "</div>"
      ],
      "text/plain": [
       "      CRIM    ZN  INDUS  CHAS    NOX     RM   AGE     DIS  RAD    TAX  \\\n",
       "0  0.00632  18.0   2.31   0.0  0.538  6.575  65.2  4.0900  1.0  296.0   \n",
       "1  0.02731   0.0   7.07   0.0  0.469  6.421  78.9  4.9671  2.0  242.0   \n",
       "2  0.02729   0.0   7.07   0.0  0.469  7.185  61.1  4.9671  2.0  242.0   \n",
       "3  0.03237   0.0   2.18   0.0  0.458  6.998  45.8  6.0622  3.0  222.0   \n",
       "4  0.06905   0.0   2.18   0.0  0.458  7.147  54.2  6.0622  3.0  222.0   \n",
       "\n",
       "   PTRATIO       B  LSTAT  target  \n",
       "0     15.3  396.90   4.98    24.0  \n",
       "1     17.8  396.90   9.14    21.6  \n",
       "2     17.8  392.83   4.03    34.7  \n",
       "3     18.7  394.63   2.94    33.4  \n",
       "4     18.7  396.90   5.33    36.2  "
      ]
     },
     "execution_count": 252,
     "metadata": {},
     "output_type": "execute_result"
    }
   ],
   "source": [
    "from sklearn.datasets import load_boston\n",
    "datos=load_boston()\n",
    "boston = pd.DataFrame(datos.data, columns = datos.feature_names)\n",
    "boston[\"target\"] = datos.target\n",
    "boston.head(5)"
   ]
  },
  {
   "cell_type": "markdown",
   "metadata": {},
   "source": [
    "### Preprocesamiento:"
   ]
  },
  {
   "cell_type": "code",
   "execution_count": 253,
   "metadata": {},
   "outputs": [],
   "source": [
    "boston.isna().sum()\n",
    "boston = boston.dropna()"
   ]
  },
  {
   "cell_type": "markdown",
   "metadata": {},
   "source": [
    "### Codificaremos la variable \"CHAS\""
   ]
  },
  {
   "cell_type": "code",
   "execution_count": 254,
   "metadata": {},
   "outputs": [
    {
     "data": {
      "text/html": [
       "<div>\n",
       "<style scoped>\n",
       "    .dataframe tbody tr th:only-of-type {\n",
       "        vertical-align: middle;\n",
       "    }\n",
       "\n",
       "    .dataframe tbody tr th {\n",
       "        vertical-align: top;\n",
       "    }\n",
       "\n",
       "    .dataframe thead th {\n",
       "        text-align: right;\n",
       "    }\n",
       "</style>\n",
       "<table border=\"1\" class=\"dataframe\">\n",
       "  <thead>\n",
       "    <tr style=\"text-align: right;\">\n",
       "      <th></th>\n",
       "      <th>CRIM</th>\n",
       "      <th>ZN</th>\n",
       "      <th>INDUS</th>\n",
       "      <th>NOX</th>\n",
       "      <th>RM</th>\n",
       "      <th>AGE</th>\n",
       "      <th>DIS</th>\n",
       "      <th>RAD</th>\n",
       "      <th>TAX</th>\n",
       "      <th>PTRATIO</th>\n",
       "      <th>B</th>\n",
       "      <th>LSTAT</th>\n",
       "      <th>target</th>\n",
       "      <th>CHAS_0.0</th>\n",
       "      <th>CHAS_1.0</th>\n",
       "    </tr>\n",
       "  </thead>\n",
       "  <tbody>\n",
       "    <tr>\n",
       "      <th>0</th>\n",
       "      <td>0.00632</td>\n",
       "      <td>18.0</td>\n",
       "      <td>2.31</td>\n",
       "      <td>0.538</td>\n",
       "      <td>6.575</td>\n",
       "      <td>65.2</td>\n",
       "      <td>4.0900</td>\n",
       "      <td>1.0</td>\n",
       "      <td>296.0</td>\n",
       "      <td>15.3</td>\n",
       "      <td>396.90</td>\n",
       "      <td>4.98</td>\n",
       "      <td>24.0</td>\n",
       "      <td>1</td>\n",
       "      <td>0</td>\n",
       "    </tr>\n",
       "    <tr>\n",
       "      <th>1</th>\n",
       "      <td>0.02731</td>\n",
       "      <td>0.0</td>\n",
       "      <td>7.07</td>\n",
       "      <td>0.469</td>\n",
       "      <td>6.421</td>\n",
       "      <td>78.9</td>\n",
       "      <td>4.9671</td>\n",
       "      <td>2.0</td>\n",
       "      <td>242.0</td>\n",
       "      <td>17.8</td>\n",
       "      <td>396.90</td>\n",
       "      <td>9.14</td>\n",
       "      <td>21.6</td>\n",
       "      <td>1</td>\n",
       "      <td>0</td>\n",
       "    </tr>\n",
       "    <tr>\n",
       "      <th>2</th>\n",
       "      <td>0.02729</td>\n",
       "      <td>0.0</td>\n",
       "      <td>7.07</td>\n",
       "      <td>0.469</td>\n",
       "      <td>7.185</td>\n",
       "      <td>61.1</td>\n",
       "      <td>4.9671</td>\n",
       "      <td>2.0</td>\n",
       "      <td>242.0</td>\n",
       "      <td>17.8</td>\n",
       "      <td>392.83</td>\n",
       "      <td>4.03</td>\n",
       "      <td>34.7</td>\n",
       "      <td>1</td>\n",
       "      <td>0</td>\n",
       "    </tr>\n",
       "  </tbody>\n",
       "</table>\n",
       "</div>"
      ],
      "text/plain": [
       "      CRIM    ZN  INDUS    NOX     RM   AGE     DIS  RAD    TAX  PTRATIO  \\\n",
       "0  0.00632  18.0   2.31  0.538  6.575  65.2  4.0900  1.0  296.0     15.3   \n",
       "1  0.02731   0.0   7.07  0.469  6.421  78.9  4.9671  2.0  242.0     17.8   \n",
       "2  0.02729   0.0   7.07  0.469  7.185  61.1  4.9671  2.0  242.0     17.8   \n",
       "\n",
       "        B  LSTAT  target  CHAS_0.0  CHAS_1.0  \n",
       "0  396.90   4.98    24.0         1         0  \n",
       "1  396.90   9.14    21.6         1         0  \n",
       "2  392.83   4.03    34.7         1         0  "
      ]
     },
     "execution_count": 254,
     "metadata": {},
     "output_type": "execute_result"
    }
   ],
   "source": [
    "boston = pd.concat([boston,pd.get_dummies(boston['CHAS'], prefix='CHAS')],axis=1)\n",
    "boston.drop(['CHAS'],axis=1, inplace=True)\n",
    "boston.head(3)"
   ]
  },
  {
   "cell_type": "markdown",
   "metadata": {},
   "source": [
    "### Creamos nuestros conjuntos de entrenamiento y prueba"
   ]
  },
  {
   "cell_type": "code",
   "execution_count": 255,
   "metadata": {},
   "outputs": [],
   "source": [
    "train_boston = boston.sample(frac=0.8,random_state=0)\n",
    "test_boston = boston.drop(train_boston.index)"
   ]
  },
  {
   "cell_type": "code",
   "execution_count": 256,
   "metadata": {},
   "outputs": [
    {
     "data": {
      "text/html": [
       "<div>\n",
       "<style scoped>\n",
       "    .dataframe tbody tr th:only-of-type {\n",
       "        vertical-align: middle;\n",
       "    }\n",
       "\n",
       "    .dataframe tbody tr th {\n",
       "        vertical-align: top;\n",
       "    }\n",
       "\n",
       "    .dataframe thead th {\n",
       "        text-align: right;\n",
       "    }\n",
       "</style>\n",
       "<table border=\"1\" class=\"dataframe\">\n",
       "  <thead>\n",
       "    <tr style=\"text-align: right;\">\n",
       "      <th></th>\n",
       "      <th>count</th>\n",
       "      <th>mean</th>\n",
       "      <th>std</th>\n",
       "      <th>min</th>\n",
       "      <th>25%</th>\n",
       "      <th>50%</th>\n",
       "      <th>75%</th>\n",
       "      <th>max</th>\n",
       "    </tr>\n",
       "  </thead>\n",
       "  <tbody>\n",
       "    <tr>\n",
       "      <th>CRIM</th>\n",
       "      <td>405.0</td>\n",
       "      <td>3.670339</td>\n",
       "      <td>8.977954</td>\n",
       "      <td>0.00632</td>\n",
       "      <td>0.08265</td>\n",
       "      <td>0.26838</td>\n",
       "      <td>3.47428</td>\n",
       "      <td>88.9762</td>\n",
       "    </tr>\n",
       "    <tr>\n",
       "      <th>ZN</th>\n",
       "      <td>405.0</td>\n",
       "      <td>11.067901</td>\n",
       "      <td>22.688396</td>\n",
       "      <td>0.00000</td>\n",
       "      <td>0.00000</td>\n",
       "      <td>0.00000</td>\n",
       "      <td>12.50000</td>\n",
       "      <td>95.0000</td>\n",
       "    </tr>\n",
       "    <tr>\n",
       "      <th>INDUS</th>\n",
       "      <td>405.0</td>\n",
       "      <td>11.097951</td>\n",
       "      <td>6.699157</td>\n",
       "      <td>0.74000</td>\n",
       "      <td>5.32000</td>\n",
       "      <td>9.69000</td>\n",
       "      <td>18.10000</td>\n",
       "      <td>27.7400</td>\n",
       "    </tr>\n",
       "    <tr>\n",
       "      <th>NOX</th>\n",
       "      <td>405.0</td>\n",
       "      <td>0.553098</td>\n",
       "      <td>0.115564</td>\n",
       "      <td>0.38500</td>\n",
       "      <td>0.44900</td>\n",
       "      <td>0.53800</td>\n",
       "      <td>0.62400</td>\n",
       "      <td>0.8710</td>\n",
       "    </tr>\n",
       "    <tr>\n",
       "      <th>RM</th>\n",
       "      <td>405.0</td>\n",
       "      <td>6.269768</td>\n",
       "      <td>0.690552</td>\n",
       "      <td>3.56100</td>\n",
       "      <td>5.87800</td>\n",
       "      <td>6.19300</td>\n",
       "      <td>6.61900</td>\n",
       "      <td>8.7800</td>\n",
       "    </tr>\n",
       "  </tbody>\n",
       "</table>\n",
       "</div>"
      ],
      "text/plain": [
       "       count       mean        std      min      25%      50%       75%  \\\n",
       "CRIM   405.0   3.670339   8.977954  0.00632  0.08265  0.26838   3.47428   \n",
       "ZN     405.0  11.067901  22.688396  0.00000  0.00000  0.00000  12.50000   \n",
       "INDUS  405.0  11.097951   6.699157  0.74000  5.32000  9.69000  18.10000   \n",
       "NOX    405.0   0.553098   0.115564  0.38500  0.44900  0.53800   0.62400   \n",
       "RM     405.0   6.269768   0.690552  3.56100  5.87800  6.19300   6.61900   \n",
       "\n",
       "           max  \n",
       "CRIM   88.9762  \n",
       "ZN     95.0000  \n",
       "INDUS  27.7400  \n",
       "NOX     0.8710  \n",
       "RM      8.7800  "
      ]
     },
     "execution_count": 256,
     "metadata": {},
     "output_type": "execute_result"
    }
   ],
   "source": [
    "train_data = train_boston.describe()\n",
    "train_data.pop(\"target\")\n",
    "train_data = train_data.transpose()\n",
    "train_data.head()"
   ]
  },
  {
   "cell_type": "code",
   "execution_count": 257,
   "metadata": {},
   "outputs": [],
   "source": [
    "train_labels = train_boston.pop(\"target\")\n",
    "test_labels = test_boston.pop(\"target\")"
   ]
  },
  {
   "cell_type": "markdown",
   "metadata": {},
   "source": [
    "### Estadarizamos nuestros datos"
   ]
  },
  {
   "cell_type": "code",
   "execution_count": 258,
   "metadata": {},
   "outputs": [],
   "source": [
    "def norm(x):\n",
    "  return (x - train_data['mean']) / train_data['std']\n",
    "normed_train_data = norm(train_boston)\n",
    "normed_test_data = norm(test_boston)"
   ]
  },
  {
   "cell_type": "markdown",
   "metadata": {},
   "source": [
    "### A continuación elaboramos el modelo"
   ]
  },
  {
   "cell_type": "code",
   "execution_count": 259,
   "metadata": {},
   "outputs": [],
   "source": [
    "class Regression(Model):\n",
    "    def __init__(self):\n",
    "        super(Regression,self).__init__()\n",
    "        self.dense1 = Dense(64, activation='relu')\n",
    "        self.dropout1 = Dropout(0.4)\n",
    "        self.dense2 = Dense(64, activation='relu')\n",
    "        self.dropout2 = Dropout(0.4)\n",
    "        self.dense_out = Dense(1)\n",
    "\n",
    "    def call(self,x):\n",
    "        x = self.dense1(x)\n",
    "        x = self.dropout1(x)\n",
    "        x = self.dense2(x)\n",
    "        x = self.dropout2(x)\n",
    "        return(self.dense_out(x))\n",
    "\n",
    "model = Regression()"
   ]
  },
  {
   "cell_type": "markdown",
   "metadata": {},
   "source": [
    "### Compilamos el modelo usando \"Adam\":"
   ]
  },
  {
   "cell_type": "code",
   "execution_count": 260,
   "metadata": {},
   "outputs": [],
   "source": [
    "optim = tf.keras.optimizers.Adam()\n",
    "model.compile(loss='mse',\n",
    "                optimizer=optim,\n",
    "                metrics=['mae', 'mse'])"
   ]
  },
  {
   "cell_type": "markdown",
   "metadata": {},
   "source": [
    "### Procedemos a entrenar el modelo:"
   ]
  },
  {
   "cell_type": "code",
   "execution_count": 268,
   "metadata": {},
   "outputs": [
    {
     "name": "stdout",
     "output_type": "stream",
     "text": [
      "\n",
      "....................................................................................................\n",
      "....................................................................................................\n",
      "....................................................................................................\n",
      "....................................................................................................\n",
      "....................................................................................................\n",
      "....................................................................................................\n",
      "....................................................................................................\n",
      "....................................................................................................\n",
      "....................................................................................................\n",
      "...................................................................................................."
     ]
    }
   ],
   "source": [
    "class PrintDot(keras.callbacks.Callback):\n",
    "  def on_epoch_end(self, epoch, logs):\n",
    "    if epoch % 100 == 0: print('')\n",
    "    print('.', end='')\n",
    "\n",
    "epochs = 1000\n",
    "\n",
    "historico = model.fit(\n",
    "  normed_train_data, train_labels,\n",
    "  epochs=epochs, validation_split = 0.2, verbose=0,\n",
    "  callbacks=[PrintDot()])"
   ]
  },
  {
   "cell_type": "code",
   "execution_count": 262,
   "metadata": {},
   "outputs": [
    {
     "name": "stdout",
     "output_type": "stream",
     "text": [
      "Model: \"regression_5\"\n",
      "_________________________________________________________________\n",
      "Layer (type)                 Output Shape              Param #   \n",
      "=================================================================\n",
      "dense_51 (Dense)             multiple                  960       \n",
      "_________________________________________________________________\n",
      "dropout_34 (Dropout)         multiple                  0         \n",
      "_________________________________________________________________\n",
      "dense_52 (Dense)             multiple                  4160      \n",
      "_________________________________________________________________\n",
      "dropout_35 (Dropout)         multiple                  0         \n",
      "_________________________________________________________________\n",
      "dense_53 (Dense)             multiple                  65        \n",
      "=================================================================\n",
      "Total params: 5,185\n",
      "Trainable params: 5,185\n",
      "Non-trainable params: 0\n",
      "_________________________________________________________________\n"
     ]
    }
   ],
   "source": [
    "model.summary()"
   ]
  },
  {
   "cell_type": "code",
   "execution_count": 263,
   "metadata": {},
   "outputs": [
    {
     "data": {
      "text/html": [
       "<div>\n",
       "<style scoped>\n",
       "    .dataframe tbody tr th:only-of-type {\n",
       "        vertical-align: middle;\n",
       "    }\n",
       "\n",
       "    .dataframe tbody tr th {\n",
       "        vertical-align: top;\n",
       "    }\n",
       "\n",
       "    .dataframe thead th {\n",
       "        text-align: right;\n",
       "    }\n",
       "</style>\n",
       "<table border=\"1\" class=\"dataframe\">\n",
       "  <thead>\n",
       "    <tr style=\"text-align: right;\">\n",
       "      <th></th>\n",
       "      <th>loss</th>\n",
       "      <th>mae</th>\n",
       "      <th>mse</th>\n",
       "      <th>val_loss</th>\n",
       "      <th>val_mae</th>\n",
       "      <th>val_mse</th>\n",
       "      <th>epoch</th>\n",
       "    </tr>\n",
       "  </thead>\n",
       "  <tbody>\n",
       "    <tr>\n",
       "      <th>995</th>\n",
       "      <td>17.514879</td>\n",
       "      <td>3.127440</td>\n",
       "      <td>17.514879</td>\n",
       "      <td>14.981297</td>\n",
       "      <td>2.746612</td>\n",
       "      <td>14.981297</td>\n",
       "      <td>995</td>\n",
       "    </tr>\n",
       "    <tr>\n",
       "      <th>996</th>\n",
       "      <td>18.432003</td>\n",
       "      <td>2.970251</td>\n",
       "      <td>18.432003</td>\n",
       "      <td>13.569155</td>\n",
       "      <td>2.525334</td>\n",
       "      <td>13.569155</td>\n",
       "      <td>996</td>\n",
       "    </tr>\n",
       "    <tr>\n",
       "      <th>997</th>\n",
       "      <td>15.944071</td>\n",
       "      <td>3.070545</td>\n",
       "      <td>15.944071</td>\n",
       "      <td>12.619026</td>\n",
       "      <td>2.384913</td>\n",
       "      <td>12.619026</td>\n",
       "      <td>997</td>\n",
       "    </tr>\n",
       "    <tr>\n",
       "      <th>998</th>\n",
       "      <td>17.828825</td>\n",
       "      <td>2.957018</td>\n",
       "      <td>17.828825</td>\n",
       "      <td>12.474941</td>\n",
       "      <td>2.383549</td>\n",
       "      <td>12.474941</td>\n",
       "      <td>998</td>\n",
       "    </tr>\n",
       "    <tr>\n",
       "      <th>999</th>\n",
       "      <td>16.995237</td>\n",
       "      <td>3.088903</td>\n",
       "      <td>16.995237</td>\n",
       "      <td>12.190855</td>\n",
       "      <td>2.304109</td>\n",
       "      <td>12.190855</td>\n",
       "      <td>999</td>\n",
       "    </tr>\n",
       "  </tbody>\n",
       "</table>\n",
       "</div>"
      ],
      "text/plain": [
       "          loss       mae        mse   val_loss   val_mae    val_mse  epoch\n",
       "995  17.514879  3.127440  17.514879  14.981297  2.746612  14.981297    995\n",
       "996  18.432003  2.970251  18.432003  13.569155  2.525334  13.569155    996\n",
       "997  15.944071  3.070545  15.944071  12.619026  2.384913  12.619026    997\n",
       "998  17.828825  2.957018  17.828825  12.474941  2.383549  12.474941    998\n",
       "999  16.995237  3.088903  16.995237  12.190855  2.304109  12.190855    999"
      ]
     },
     "execution_count": 263,
     "metadata": {},
     "output_type": "execute_result"
    }
   ],
   "source": [
    "hist = pd.DataFrame(historico.history)\n",
    "hist['epoch'] = historico.epoch\n",
    "hist.tail()"
   ]
  },
  {
   "cell_type": "code",
   "execution_count": 264,
   "metadata": {},
   "outputs": [
    {
     "data": {
      "image/png": "[encoded data removed]",
      "text/plain": [
       "<Figure size 432x288 with 1 Axes>"
      ]
     },
     "metadata": {
      "needs_background": "light"
     },
     "output_type": "display_data"
    },
    {
     "data": {
      "image/png": "[encoded data removed]",
      "text/plain": [
       "<Figure size 432x288 with 1 Axes>"
      ]
     },
     "metadata": {
      "needs_background": "light"
     },
     "output_type": "display_data"
    },
    {
     "data": {
      "text/plain": [
       "<Figure size 432x288 with 0 Axes>"
      ]
     },
     "metadata": {},
     "output_type": "display_data"
    }
   ],
   "source": [
    "def plot_history(historico):\n",
    "  hist = pd.DataFrame(historico.history)\n",
    "  hist['epoch'] = historico.epoch\n",
    "\n",
    "  plt.figure()\n",
    "  plt.xlabel('Epoch')\n",
    "  plt.ylabel('Mean Abs Error (Price)')\n",
    "  plt.plot(hist['epoch'], hist['mae'],\n",
    "           label='Train Error')\n",
    "  plt.plot(hist['epoch'], hist['val_mae'],\n",
    "           label = 'Val Error')\n",
    "  plt.ylim([0,10])\n",
    "  plt.legend()\n",
    "\n",
    "  plt.figure()\n",
    "  plt.xlabel('Epoch')\n",
    "  plt.ylabel('Mean Square Error ($Price^2$)')\n",
    "  plt.plot(hist['epoch'], hist['mse'],\n",
    "           label='Train Error')\n",
    "  plt.plot(hist['epoch'], hist['val_mse'],\n",
    "           label = 'Val Error')\n",
    "  plt.ylim([0,50])\n",
    "  plt.legend()\n",
    "  plt.show()\n",
    "\n",
    "\n",
    "plot_history(historico)\n",
    "plt.savefig('historic.png')"
   ]
  },
  {
   "cell_type": "code",
   "execution_count": 265,
   "metadata": {},
   "outputs": [
    {
     "name": "stdout",
     "output_type": "stream",
     "text": [
      "4/4 - 0s - loss: 5.4016 - mae: 1.7754 - mse: 5.4016\n",
      "Testing set Mean Abs Error:  1.78 Price\n"
     ]
    }
   ],
   "source": [
    "loss, mae, mse = model.evaluate(normed_test_data, test_labels, verbose=2)\n",
    "\n",
    "print(\"Testing set Mean Abs Error: {:5.2f} Price\".format(mae))"
   ]
  },
  {
   "cell_type": "markdown",
   "metadata": {},
   "source": [
    "### Ahora realizamos las predicciones:"
   ]
  },
  {
   "cell_type": "code",
   "execution_count": 266,
   "metadata": {},
   "outputs": [
    {
     "data": {
      "image/png": "[encoded data removed]",
      "text/plain": [
       "<Figure size 432x288 with 1 Axes>"
      ]
     },
     "metadata": {
      "needs_background": "light"
     },
     "output_type": "display_data"
    }
   ],
   "source": [
    "test_predictions = model.predict(normed_test_data).flatten()\n",
    "\n",
    "plt.scatter(test_labels, test_predictions)\n",
    "plt.xlabel('True Values (Price)')\n",
    "plt.ylabel('Predictions (Price)')\n",
    "plt.axis('equal')\n",
    "plt.axis('square')\n",
    "plt.xlim([0,plt.xlim()[1]])\n",
    "plt.ylim([0,plt.ylim()[1]])\n",
    "_ = plt.plot([-100, 100], [-100, 100])\n",
    "plt.savefig('predictions.png')"
   ]
  },
  {
   "cell_type": "code",
   "execution_count": 267,
   "metadata": {},
   "outputs": [
    {
     "data": {
      "image/png": "[encoded data removed]",
      "text/plain": [
       "<Figure size 432x288 with 1 Axes>"
      ]
     },
     "metadata": {
      "needs_background": "light"
     },
     "output_type": "display_data"
    }
   ],
   "source": [
    "error = test_predictions - test_labels\n",
    "plt.hist(error, bins = 25)\n",
    "plt.xlabel(\"Prediction Error (Price)\")\n",
    "_ = plt.ylabel(\"Count\")\n",
    "plt.savefig('prederror.png')"
   ]
  }
 ],
 "metadata": {
  "kernelspec": {
   "display_name": "Python 3",
   "language": "python",
   "name": "python3"
  },
  "language_info": {
   "codemirror_mode": {
    "name": "ipython",
    "version": 3
   },
   "file_extension": ".py",
   "mimetype": "text/x-python",
   "name": "python",
   "nbconvert_exporter": "python",
   "pygments_lexer": "ipython3",
   "version": "3.8.5"
  }
 },
 "nbformat": 4,
 "nbformat_minor": 4
}
