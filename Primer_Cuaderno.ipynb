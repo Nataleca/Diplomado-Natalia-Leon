{
  "nbformat": 4,
  "nbformat_minor": 0,
  "metadata": {
    "colab": {
      "name": "Primer Cuaderno.ipynb",
      "provenance": []
    },
    "kernelspec": {
      "name": "python3",
      "display_name": "Python 3"
    }
  },
  "cells": [
    {
      "cell_type": "code",
      "metadata": {
        "id": "55ZUqpaIb1fm"
      },
      "source": [
        ""
      ],
      "execution_count": null,
      "outputs": []
    },
    {
      "cell_type": "markdown",
      "metadata": {
        "id": "Jl7O-OzLdsAX"
      },
      "source": [
        "# Creando Títulos\r\n"
      ]
    },
    {
      "cell_type": "code",
      "metadata": {
        "id": "JZERsQYEd5_x"
      },
      "source": [
        ""
      ],
      "execution_count": null,
      "outputs": []
    },
    {
      "cell_type": "markdown",
      "metadata": {
        "id": "boL-trqFjttW"
      },
      "source": [
        "## Subtítulo\r\n",
        "### Subsubtítulo\r\n",
        "Agregamos texto y contenido\r\n",
        "\r\n",
        "* Agregamos un link\r\n",
        "[Amazon](https://www.amazon.com/?&tag=googleuscol05-20&ref=pd_sl_2a2wniraoy_e&adgrpid=77456803105&hvpone=&hvptwo=&hvadid=385431241378&hvpos=&hvnetw=g&hvrand=15744442897261797990&hvqmt=e&hvdev=c&hvdvcmdl=&hvlocint=&hvlocphy=1003659&hvtargid=kwd-360364908397&hydadcr=8636_11198607&gclid=Cj0KCQiAhP2BBhDdARIsAJEzXlFmZQSyGAwk6L9jOObHovkC_uGRyplyx0mwTRhAzd-9yjY9JKY835waAnUZEALw_wcB&language=es_US)\r\n",
        "\r\n",
        "![Alaskan Malamute](https://media.gettyimages.com/photos/alaskan-malamute-puppy-picture-id596076635?s=612x612)\r\n",
        "\r\n",
        "\r\n",
        "*Aquí aparece texto en cursiva*\r\n",
        "\r\n",
        "**Aquí aparece el texto en Negrita**\r\n",
        "\r\n",
        "***Aquí aparece el texto en cursiva y negrita***\r\n",
        "\r\n",
        "> Aquí aparece texto en negrita"
      ]
    },
    {
      "cell_type": "code",
      "metadata": {
        "id": "fDDwtwGWjujU"
      },
      "source": [
        ""
      ],
      "execution_count": null,
      "outputs": []
    },
    {
      "cell_type": "markdown",
      "metadata": {
        "id": "elfh62SkljNh"
      },
      "source": [
        "# Uso de LaTex"
      ]
    },
    {
      "cell_type": "code",
      "metadata": {
        "id": "3wAQDX3QlmFI"
      },
      "source": [
        ""
      ],
      "execution_count": null,
      "outputs": []
    },
    {
      "cell_type": "markdown",
      "metadata": {
        "id": "LY2nlt7Ulmxf"
      },
      "source": [
        "Podemos escribir fórmulas matemáticas empleando la sintaxis usual de ***LaTex***.\r\n",
        "\r\n",
        "$y=\\sin(x+2\\pi)$\r\n",
        "\r\n",
        "$$y=\\beta_0+\\beta_1x+\\epsilon$$\r\n",
        "\r\n",
        "$$\\int_a^b \\frac{x^2+1}{2x}dx$$\r\n"
      ]
    },
    {
      "cell_type": "code",
      "metadata": {
        "colab": {
          "base_uri": "https://localhost:8080/"
        },
        "id": "ExlomwELoA0z",
        "outputId": "1e552ea1-117f-4b1f-996d-7ffd1e109caf"
      },
      "source": [
        "print(\"Hola Amigos\")"
      ],
      "execution_count": 1,
      "outputs": [
        {
          "output_type": "stream",
          "text": [
            "Hola Amigos\n"
          ],
          "name": "stdout"
        }
      ]
    },
    {
      "cell_type": "code",
      "metadata": {
        "id": "eMUMd6XhoxkJ"
      },
      "source": [
        ""
      ],
      "execution_count": null,
      "outputs": []
    }
  ]
}