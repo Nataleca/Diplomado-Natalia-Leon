{
  "nbformat": 4,
  "nbformat_minor": 0,
  "metadata": {
    "colab": {
      "name": "ColabCPU.ipynb",
      "provenance": [],
      "authorship_tag": "ABX9TyMYmbNt5/Ju8T+ta0FOpcv8",
      "include_colab_link": true
    },
    "kernelspec": {
      "display_name": "Python 3",
      "name": "python3"
    }
  },
  "cells": [
    {
      "cell_type": "markdown",
      "metadata": {
        "id": "view-in-github",
        "colab_type": "text"
      },
      "source": [
        "<a href=\"https://colab.research.google.com/github/Nataleca/Diplomado-Natalia-Leon/blob/main/ColabCPU.ipynb\" target=\"_parent\"><img src=\"https://colab.research.google.com/assets/colab-badge.svg\" alt=\"Open In Colab\"/></a>"
      ]
    },
    {
      "cell_type": "markdown",
      "metadata": {
        "id": "wZpRzmYqIM0F"
      },
      "source": [
        "# **Diplomado en IA y AP**\n",
        "# **Leidy Natalia León Carvajal**\n",
        "# **Tarea 2: Parte 1**"
      ]
    },
    {
      "cell_type": "markdown",
      "metadata": {
        "id": "V92waStj3Klp"
      },
      "source": [
        "# Entendiendo Google-Colab: CPU"
      ]
    },
    {
      "cell_type": "markdown",
      "metadata": {
        "id": "vN6aBpoZ3oO4"
      },
      "source": [
        "## Lectura del conjunto de datos:"
      ]
    },
    {
      "cell_type": "code",
      "metadata": {
        "id": "HF6Zy5LS3rmQ"
      },
      "source": [
        "import numpy as np\n",
        "import os\n",
        "import gzip\n",
        "\n",
        "def cargar_datos(ruta, tipo='train'):\n",
        "\n",
        "  ruta_categorias = os.path.join(ruta, '%s-labels-idx1-ubyte.gz' %tipo)\n",
        "  ruta_imagenes=os.path.join(ruta,'%s-images-idx3-ubyte.gz' %tipo)\n",
        "\n",
        "  with gzip.open(ruta_categorias,'rb') as rut_cat:\n",
        "    etiquetas=np.frombuffer(rut_cat.read(),dtype=np.uint8,offset=8)\n",
        "\n",
        "  with gzip.open(ruta_imagenes,'rb') as rut_imgs:\n",
        "    imagenes=np.frombuffer(rut_imgs.read(),dtype=np.uint8,offset=16).reshape(len(etiquetas),784)\n",
        "\n",
        "  return imagenes, etiquetas"
      ],
      "execution_count": null,
      "outputs": []
    },
    {
      "cell_type": "markdown",
      "metadata": {
        "id": "yImuAO5F8CXQ"
      },
      "source": [
        "## Para acceder a Google Drive"
      ]
    },
    {
      "cell_type": "code",
      "metadata": {
        "colab": {
          "base_uri": "https://localhost:8080/"
        },
        "id": "7WbulKw78GY6",
        "outputId": "0d9299b7-7218-4b58-e94e-b1c13684472a"
      },
      "source": [
        "from google.colab import drive\n",
        "drive.mount('/content/gdrive')\n",
        "\n",
        "ruta='gdrive/My Drive/IA y AP/fashion_mnist_data'\n",
        "\n",
        "X_train, Y_train = cargar_datos(ruta, tipo='train')\n",
        "X_test, Y_test = cargar_datos(ruta, tipo='test')"
      ],
      "execution_count": null,
      "outputs": [
        {
          "output_type": "stream",
          "text": [
            "Drive already mounted at /content/gdrive; to attempt to forcibly remount, call drive.mount(\"/content/gdrive\", force_remount=True).\n"
          ],
          "name": "stdout"
        }
      ]
    },
    {
      "cell_type": "markdown",
      "metadata": {
        "id": "aQ97SvWG-aAb"
      },
      "source": [
        "## Ajustando el Tamaño de los datos (Múltiplos de 128 para comparar con TPU)"
      ]
    },
    {
      "cell_type": "code",
      "metadata": {
        "id": "uXQ7thMx-fkR"
      },
      "source": [
        "ntrain=len(X_train)-len(X_train)%128\n",
        "ntest=len(X_test)-len(X_test)%128\n",
        "X_train = X_train[0:ntrain,:]\n",
        "X_test = X_test[0:ntest,:]\n",
        "Y_train = Y_train[0:ntrain]\n",
        "Y_test = Y_test[0:ntest]\n",
        "X_train = np.reshape(X_train,(ntrain,28,28,1))\n",
        "X_test = np.reshape(X_test,(ntest,28,28,1)) "
      ],
      "execution_count": null,
      "outputs": []
    },
    {
      "cell_type": "markdown",
      "metadata": {
        "id": "I2T5UX6BCH-w"
      },
      "source": [
        "## Importando ***Tensorflow 2***"
      ]
    },
    {
      "cell_type": "code",
      "metadata": {
        "colab": {
          "base_uri": "https://localhost:8080/"
        },
        "id": "_mnWpcsYCNn0",
        "outputId": "44aafa7b-9c79-4b6d-828a-40124b46b5f8"
      },
      "source": [
        "%tensorflow_version 2.x\n",
        "import tensorflow as tf\n",
        "\n",
        "print('Versión de Tensorflow: ' + tf.__version__)"
      ],
      "execution_count": null,
      "outputs": [
        {
          "output_type": "stream",
          "text": [
            "Versión de Tensorflow: 2.4.1\n"
          ],
          "name": "stdout"
        }
      ]
    },
    {
      "cell_type": "markdown",
      "metadata": {
        "id": "XQcxnKUuDJtr"
      },
      "source": [
        "### Creación del modelo con ***Keras***"
      ]
    },
    {
      "cell_type": "code",
      "metadata": {
        "colab": {
          "base_uri": "https://localhost:8080/"
        },
        "id": "HCK0GvrWDOwO",
        "outputId": "dae66ba4-d49d-47dd-9b74-aa305db334db"
      },
      "source": [
        "tf.random.set_seed(200)\n",
        "model = tf.keras.models.Sequential()\n",
        "\n",
        "model.add(tf.keras.layers.BatchNormalization(input_shape=X_train.shape[1:])) # Normalización\n",
        "model.add(tf.keras.layers.Conv2D(64, (5,5), padding='same', activation='elu')) # Filtro Convolucional\n",
        "model.add(tf.keras.layers.MaxPooling2D(pool_size=(2,2), strides=(2,2))) # Capa MaxPooling\n",
        "model.add(tf.keras.layers.Dropout(0.25)) # Capa Dropout\n",
        "\n",
        "model.add(tf.keras.layers.BatchNormalization(input_shape=X_train.shape[1:])) # Normalización\n",
        "model.add(tf.keras.layers.Conv2D(128, (5,5), padding='same', activation='elu')) # Filtro Convolucional\n",
        "model.add(tf.keras.layers.MaxPooling2D(pool_size=(2,2)))# Capa MaxPooling\n",
        "model.add(tf.keras.layers.Dropout(0.25)) # Capa Dropout\n",
        "\n",
        "model.add(tf.keras.layers.BatchNormalization(input_shape=X_train.shape[1:])) # Normalización\n",
        "model.add(tf.keras.layers.Conv2D(256, (5,5), padding='same', activation='elu')) # Filtro Convolucional\n",
        "model.add(tf.keras.layers.MaxPooling2D(pool_size=(2,2), strides=(2,2)))# Capa MaxPooling\n",
        "model.add(tf.keras.layers.Dropout(0.25)) # Capa Dropout\n",
        "\n",
        "model.add(tf.keras.layers.Flatten()) # Aplanamos datos\n",
        "model.add(tf.keras.layers.Dense(256)) # Agregamos red neuronal (256 neuronas)\n",
        "model.add(tf.keras.layers.Activation('elu'))\n",
        "model.add(tf.keras.layers.Dropout(0.5))\n",
        "model.add(tf.keras.layers.Dense(10)) # Salida de 10 neuronas\n",
        "model.add(tf.keras.layers.Activation('softmax')) # Función de activación 'softmax'\n",
        "\n",
        "# Imprime en pantalla la información del modelo\n",
        "model.summary()\n",
        "\n"
      ],
      "execution_count": null,
      "outputs": [
        {
          "output_type": "stream",
          "text": [
            "Model: \"sequential\"\n",
            "_________________________________________________________________\n",
            "Layer (type)                 Output Shape              Param #   \n",
            "=================================================================\n",
            "batch_normalization (BatchNo (None, 28, 28, 1)         4         \n",
            "_________________________________________________________________\n",
            "conv2d (Conv2D)              (None, 28, 28, 64)        1664      \n",
            "_________________________________________________________________\n",
            "max_pooling2d (MaxPooling2D) (None, 14, 14, 64)        0         \n",
            "_________________________________________________________________\n",
            "dropout (Dropout)            (None, 14, 14, 64)        0         \n",
            "_________________________________________________________________\n",
            "batch_normalization_1 (Batch (None, 14, 14, 64)        256       \n",
            "_________________________________________________________________\n",
            "conv2d_1 (Conv2D)            (None, 14, 14, 128)       204928    \n",
            "_________________________________________________________________\n",
            "max_pooling2d_1 (MaxPooling2 (None, 7, 7, 128)         0         \n",
            "_________________________________________________________________\n",
            "dropout_1 (Dropout)          (None, 7, 7, 128)         0         \n",
            "_________________________________________________________________\n",
            "batch_normalization_2 (Batch (None, 7, 7, 128)         512       \n",
            "_________________________________________________________________\n",
            "conv2d_2 (Conv2D)            (None, 7, 7, 256)         819456    \n",
            "_________________________________________________________________\n",
            "max_pooling2d_2 (MaxPooling2 (None, 3, 3, 256)         0         \n",
            "_________________________________________________________________\n",
            "dropout_2 (Dropout)          (None, 3, 3, 256)         0         \n",
            "_________________________________________________________________\n",
            "flatten (Flatten)            (None, 2304)              0         \n",
            "_________________________________________________________________\n",
            "dense (Dense)                (None, 256)               590080    \n",
            "_________________________________________________________________\n",
            "activation (Activation)      (None, 256)               0         \n",
            "_________________________________________________________________\n",
            "dropout_3 (Dropout)          (None, 256)               0         \n",
            "_________________________________________________________________\n",
            "dense_1 (Dense)              (None, 10)                2570      \n",
            "_________________________________________________________________\n",
            "activation_1 (Activation)    (None, 10)                0         \n",
            "=================================================================\n",
            "Total params: 1,619,470\n",
            "Trainable params: 1,619,084\n",
            "Non-trainable params: 386\n",
            "_________________________________________________________________\n"
          ],
          "name": "stdout"
        }
      ]
    },
    {
      "cell_type": "markdown",
      "metadata": {
        "id": "OUZ5S8lJFkGa"
      },
      "source": [
        "## Entrenando con **CPU**"
      ]
    },
    {
      "cell_type": "code",
      "metadata": {
        "id": "aDU3SL-5FXXg"
      },
      "source": [
        "# Optimizador 'adam'\n",
        "model.compile(optimizer='adam',loss='sparse_categorical_crossentropy',metrics=['accuracy'])"
      ],
      "execution_count": null,
      "outputs": []
    },
    {
      "cell_type": "markdown",
      "metadata": {
        "id": "fp_KjpWHF6YQ"
      },
      "source": [
        "Se realizan **2 iteraciones**"
      ]
    },
    {
      "cell_type": "code",
      "metadata": {
        "id": "g15_0c0OF-XD"
      },
      "source": [
        "import timeit\n",
        "\n",
        "def train_cpu():\n",
        "  with tf.device('/cpu:0'):\n",
        "    model.fit(X_train,Y_train,validation_data=(X_test,Y_test),batch_size=128,epochs=2,verbose=1)\n",
        "  \n",
        "  return None\n",
        "\n",
        "cpu_time = timeit.timeit('train_cpu()', number=1, setup='from __main__ import train_cpu')"
      ],
      "execution_count": null,
      "outputs": []
    },
    {
      "cell_type": "code",
      "metadata": {
        "colab": {
          "background_save": true
        },
        "id": "Cocy_DobJvyz"
      },
      "source": [
        "# Tiempo de ejecución:\n",
        "\n",
        "print('Tiempo de Entrenamiento: ' + str(cpu_time) + 'segundos!!!')  "
      ],
      "execution_count": null,
      "outputs": []
    },
    {
      "cell_type": "markdown",
      "metadata": {
        "id": "C8DE0i3fOCnw"
      },
      "source": [
        "Tardó casi media hora!!!"
      ]
    },
    {
      "cell_type": "markdown",
      "metadata": {
        "id": "5mDxlDNqUCOz"
      },
      "source": [
        ""
      ]
    }
  ]
}